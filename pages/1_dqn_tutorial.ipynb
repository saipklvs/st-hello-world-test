{
 "cells": [
  {
   "cell_type": "markdown",
   "metadata": {
    "id": "klGNgWREsvQv"
   },
   "source": [
    "##### Copyright 2021 The TF-Agents Authors."
   ]
  },
  {
   "cell_type": "code",
   "execution_count": 1,
   "metadata": {
    "cellView": "form",
    "execution": {
     "iopub.execute_input": "2022-06-05T12:53:11.267997Z",
     "iopub.status.busy": "2022-06-05T12:53:11.267469Z",
     "iopub.status.idle": "2022-06-05T12:53:11.271056Z",
     "shell.execute_reply": "2022-06-05T12:53:11.270535Z"
    },
    "id": "nQnmcm0oI1Q-"
   },
   "outputs": [],
   "source": [
    "#@title Licensed under the Apache License, Version 2.0 (the \"License\");\n",
    "# you may not use this file except in compliance with the License.\n",
    "# You may obtain a copy of the License at\n",
    "#\n",
    "# https://www.apache.org/licenses/LICENSE-2.0\n",
    "#\n",
    "# Unless required by applicable law or agreed to in writing, software\n",
    "# distributed under the License is distributed on an \"AS IS\" BASIS,\n",
    "# WITHOUT WARRANTIES OR CONDITIONS OF ANY KIND, either express or implied.\n",
    "# See the License for the specific language governing permissions and\n",
    "# limitations under the License."
   ]
  },
  {
   "cell_type": "markdown",
   "metadata": {
    "id": "pmDI-h7cI0tI"
   },
   "source": [
    "# Train a Deep Q Network with TF-Agents\n",
    "\n",
    "<table class=\"tfo-notebook-buttons\" align=\"left\">\n",
    "  <td>\n",
    "    <a target=\"_blank\" href=\"https://www.tensorflow.org/agents/tutorials/1_dqn_tutorial\">\n",
    "    <img src=\"https://www.tensorflow.org/images/tf_logo_32px.png\" />\n",
    "    View on TensorFlow.org</a>\n",
    "  </td>\n",
    "  <td>\n",
    "    <a target=\"_blank\" href=\"https://colab.research.google.com/github/tensorflow/agents/blob/master/docs/tutorials/1_dqn_tutorial.ipynb\">\n",
    "    <img src=\"https://www.tensorflow.org/images/colab_logo_32px.png\" />\n",
    "    Run in Google Colab</a>\n",
    "  </td>\n",
    "  <td>\n",
    "    <a target=\"_blank\" href=\"https://github.com/tensorflow/agents/blob/master/docs/tutorials/1_dqn_tutorial.ipynb\">\n",
    "    <img src=\"https://www.tensorflow.org/images/GitHub-Mark-32px.png\" />\n",
    "    View source on GitHub</a>\n",
    "  </td>\n",
    "  <td>\n",
    "    <a href=\"https://storage.googleapis.com/tensorflow_docs/agents/docs/tutorials/1_dqn_tutorial.ipynb\"><img src=\"https://www.tensorflow.org/images/download_logo_32px.png\" />Download notebook</a>\n",
    "  </td>\n",
    "</table>"
   ]
  },
  {
   "cell_type": "markdown",
   "metadata": {
    "id": "lsaQlK8fFQqH"
   },
   "source": [
    "## Introduction\n"
   ]
  },
  {
   "cell_type": "markdown",
   "metadata": {
    "id": "cKOCZlhUgXVK"
   },
   "source": [
    "This example shows how to train a [DQN (Deep Q Networks)](https://storage.googleapis.com/deepmind-media/dqn/DQNNaturePaper.pdf)  agent on the Cartpole environment using the TF-Agents library.\n",
    "\n",
    "![Cartpole environment](https://raw.githubusercontent.com/tensorflow/agents/master/docs/tutorials/images/cartpole.png)\n",
    "\n",
    "It will walk you through all the components in a Reinforcement Learning (RL) pipeline for training, evaluation and data collection.\n",
    "\n",
    "\n",
    "To run this code live, click the 'Run in Google Colab' link above.\n"
   ]
  },
  {
   "cell_type": "markdown",
   "metadata": {
    "id": "1u9QVVsShC9X"
   },
   "source": [
    "## Setup"
   ]
  },
  {
   "cell_type": "markdown",
   "metadata": {
    "id": "kNrNXKI7bINP"
   },
   "source": [
    "If you haven't installed the following dependencies, run:"
   ]
  },
  {
   "cell_type": "code",
   "execution_count": 2,
   "metadata": {
    "execution": {
     "iopub.execute_input": "2022-06-05T12:53:11.274463Z",
     "iopub.status.busy": "2022-06-05T12:53:11.273923Z",
     "iopub.status.idle": "2022-06-05T12:53:25.474444Z",
     "shell.execute_reply": "2022-06-05T12:53:25.473669Z"
    },
    "id": "KEHR2Ui-lo8O"
   },
   "outputs": [
    {
     "name": "stdout",
     "output_type": "stream",
     "text": [
      "\r",
      "0% [Working]"
     ]
    },
    {
     "name": "stdout",
     "output_type": "stream",
     "text": [
      "\r",
      "            \r",
      "Hit:1 http://us-central1.gce.archive.ubuntu.com/ubuntu focal InRelease\r\n",
      "\r",
      "0% [Connecting to security.ubuntu.com (91.189.91.39)] [Connecting to ppa.launch\r",
      "                                                                               \r",
      "Get:2 http://us-central1.gce.archive.ubuntu.com/ubuntu focal-updates InRelease [114 kB]\r\n",
      "\r",
      "                                                                               \r",
      "Get:3 http://us-central1.gce.archive.ubuntu.com/ubuntu focal-backports InRelease [108 kB]\r\n",
      "\r",
      "0% [3 InRelease 108 kB/108 kB 100%] [Connecting to security.ubuntu.com (91.189.\r",
      "0% [Connecting to security.ubuntu.com (91.189.91.39)] [Connecting to ppa.launch\r",
      "                                                                               \r",
      "Get:4 https://nvidia.github.io/libnvidia-container/stable/ubuntu18.04/amd64  InRelease [1484 B]\r\n",
      "\r",
      "0% [Waiting for headers] [Waiting for headers] [Connecting to ppa.launchpad.net\r",
      "0% [Waiting for headers] [Waiting for headers] [Connecting to ppa.launchpad.net\r",
      "                                                                               \r",
      "Hit:5 http://developer.download.nvidia.com/compute/cuda/repos/ubuntu1804/x86_64  InRelease\r\n",
      "\r",
      "0% [Waiting for headers] [Connecting to ppa.launchpad.net (185.125.190.52)] [Co"
     ]
    },
    {
     "name": "stdout",
     "output_type": "stream",
     "text": [
      "\r",
      "                                                                               \r",
      "Get:6 https://nvidia.github.io/nvidia-container-runtime/stable/ubuntu18.04/amd64  InRelease [1481 B]\r\n",
      "\r",
      "0% [Waiting for headers] [Waiting for headers] [Connecting to ppa.launchpad.net\r",
      "0% [Waiting for headers] [Waiting for headers] [Connecting to ppa.launchpad.net\r",
      "                                                                               \r",
      "Get:7 https://nvidia.github.io/nvidia-docker/ubuntu18.04/amd64  InRelease [1474 B]\r\n",
      "\r",
      "0% [Waiting for headers] [Waiting for headers] [Connecting to ppa.launchpad.net\r",
      "0% [Waiting for headers] [Waiting for headers] [Connecting to ppa.launchpad.net\r",
      "                                                                               \r",
      "Hit:8 https://download.docker.com/linux/ubuntu focal InRelease\r\n",
      "\r",
      "0% [Waiting for headers] [Waiting for headers] [Connecting to ppa.launchpad.net\r",
      "                                                                               \r",
      "Hit:9 http://security.ubuntu.com/ubuntu focal-security InRelease\r\n",
      "\r",
      "                                                                               \r",
      "0% [Waiting for headers] [Connecting to ppa.launchpad.net (185.125.190.52)]"
     ]
    },
    {
     "name": "stdout",
     "output_type": "stream",
     "text": [
      "\r",
      "0% [Waiting for headers] [Connecting to ppa.launchpad.net (185.125.190.52)]\r",
      "                                                                           \r",
      "Ign:10 http://developer.download.nvidia.com/compute/machine-learning/repos/ubuntu1804/x86_64  InRelease\r\n",
      "\r",
      "                                                                           \r",
      "0% [Waiting for headers]\r",
      "                        \r",
      "Hit:11 http://developer.download.nvidia.com/compute/machine-learning/repos/ubuntu1804/x86_64  Release\r\n",
      "\r",
      "0% [Waiting for headers]"
     ]
    },
    {
     "name": "stdout",
     "output_type": "stream",
     "text": [
      "\r",
      "0% [Waiting for headers]"
     ]
    },
    {
     "name": "stdout",
     "output_type": "stream",
     "text": [
      "\r",
      "                        \r",
      "Hit:12 http://ppa.launchpad.net/deadsnakes/ppa/ubuntu focal InRelease\r\n",
      "\r",
      "0% [Connecting to apt.llvm.org (199.232.194.49)]\r",
      "0% [Connecting to ppa.launchpad.net (185.125.190.52)]"
     ]
    },
    {
     "name": "stdout",
     "output_type": "stream",
     "text": [
      "\r",
      "0% [Connecting to ppa.launchpad.net (185.125.190.52)]"
     ]
    },
    {
     "name": "stdout",
     "output_type": "stream",
     "text": [
      "\r",
      "                                                     \r",
      "0% [Waiting for headers]"
     ]
    },
    {
     "name": "stdout",
     "output_type": "stream",
     "text": [
      "\r",
      "                        \r",
      "Hit:14 http://ppa.launchpad.net/longsleep/golang-backports/ubuntu focal InRelease\r\n",
      "\r",
      "0% [Connecting to ppa.launchpad.net (185.125.190.52)]"
     ]
    },
    {
     "name": "stdout",
     "output_type": "stream",
     "text": [
      "\r",
      "0% [Connected to apt.llvm.org (199.232.198.49)] [Connecting to ppa.launchpad.ne\r",
      "                                                                               \r",
      "Hit:13 https://apt.llvm.org/focal llvm-toolchain-focal-14 InRelease\r\n",
      "\r",
      "                                                                               \r",
      "0% [Connecting to ppa.launchpad.net (185.125.190.52)]"
     ]
    },
    {
     "name": "stdout",
     "output_type": "stream",
     "text": [
      "\r",
      "                                                     \r",
      "0% [Waiting for headers]"
     ]
    },
    {
     "name": "stdout",
     "output_type": "stream",
     "text": [
      "\r",
      "0% [Waiting for headers]\r",
      "                        \r",
      "Hit:15 http://ppa.launchpad.net/openjdk-r/ppa/ubuntu focal InRelease\r\n",
      "\r",
      "                        \r",
      "0% [Working]"
     ]
    },
    {
     "name": "stdout",
     "output_type": "stream",
     "text": [
      "\r",
      "0% [Working]"
     ]
    },
    {
     "name": "stdout",
     "output_type": "stream",
     "text": [
      "\r",
      "0% [Working]"
     ]
    },
    {
     "name": "stdout",
     "output_type": "stream",
     "text": [
      "\r",
      "0% [Working]"
     ]
    },
    {
     "name": "stdout",
     "output_type": "stream",
     "text": [
      "\r",
      "0% [Working]"
     ]
    },
    {
     "name": "stdout",
     "output_type": "stream",
     "text": [
      "\r",
      "0% [Working]"
     ]
    },
    {
     "name": "stdout",
     "output_type": "stream",
     "text": [
      "\r",
      "0% [Working]"
     ]
    },
    {
     "name": "stdout",
     "output_type": "stream",
     "text": [
      "\r",
      "100% [Working]\r",
      "              \r",
      "Fetched 227 kB in 1s (176 kB/s)\r\n"
     ]
    },
    {
     "name": "stdout",
     "output_type": "stream",
     "text": [
      "\r",
      "Reading package lists... 0%\r"
     ]
    },
    {
     "name": "stdout",
     "output_type": "stream",
     "text": [
      "\r",
      "Reading package lists... 0%\r",
      "\r",
      "Reading package lists... 0%\r",
      "\r",
      "Reading package lists... 3%\r",
      "\r",
      "Reading package lists... 3%\r",
      "\r",
      "Reading package lists... 5%\r",
      "\r",
      "Reading package lists... 5%\r",
      "\r",
      "Reading package lists... 5%\r",
      "\r",
      "Reading package lists... 5%\r",
      "\r",
      "Reading package lists... 5%\r",
      "\r",
      "Reading package lists... 5%\r"
     ]
    },
    {
     "name": "stdout",
     "output_type": "stream",
     "text": [
      "\r",
      "Reading package lists... 38%\r",
      "\r",
      "Reading package lists... 38%\r"
     ]
    },
    {
     "name": "stdout",
     "output_type": "stream",
     "text": [
      "\r",
      "Reading package lists... 55%\r",
      "\r",
      "Reading package lists... 55%\r",
      "\r",
      "Reading package lists... 56%\r",
      "\r",
      "Reading package lists... 56%\r",
      "\r",
      "Reading package lists... 56%\r",
      "\r",
      "Reading package lists... 56%\r"
     ]
    },
    {
     "name": "stdout",
     "output_type": "stream",
     "text": [
      "\r",
      "Reading package lists... 62%\r",
      "\r",
      "Reading package lists... 62%\r"
     ]
    },
    {
     "name": "stdout",
     "output_type": "stream",
     "text": [
      "\r",
      "Reading package lists... 67%\r",
      "\r",
      "Reading package lists... 67%\r",
      "\r",
      "Reading package lists... 71%\r",
      "\r",
      "Reading package lists... 71%\r",
      "\r",
      "Reading package lists... 72%\r",
      "\r",
      "Reading package lists... 72%\r"
     ]
    },
    {
     "name": "stdout",
     "output_type": "stream",
     "text": [
      "\r",
      "Reading package lists... 76%\r",
      "\r",
      "Reading package lists... 76%\r",
      "\r",
      "Reading package lists... 77%\r",
      "\r",
      "Reading package lists... 77%\r",
      "\r",
      "Reading package lists... 77%\r",
      "\r",
      "Reading package lists... 77%\r",
      "\r",
      "Reading package lists... 77%\r",
      "\r",
      "Reading package lists... 77%\r",
      "\r",
      "Reading package lists... 77%\r",
      "\r",
      "Reading package lists... 77%\r",
      "\r",
      "Reading package lists... 77%\r",
      "\r",
      "Reading package lists... 77%\r",
      "\r",
      "Reading package lists... 77%\r",
      "\r",
      "Reading package lists... 77%\r",
      "\r",
      "Reading package lists... 77%\r",
      "\r",
      "Reading package lists... 77%\r"
     ]
    },
    {
     "name": "stdout",
     "output_type": "stream",
     "text": [
      "\r",
      "Reading package lists... 83%\r",
      "\r",
      "Reading package lists... 83%\r",
      "\r",
      "Reading package lists... 86%\r",
      "\r",
      "Reading package lists... 86%\r",
      "\r",
      "Reading package lists... 90%\r",
      "\r",
      "Reading package lists... 90%\r",
      "\r",
      "Reading package lists... 91%\r",
      "\r",
      "Reading package lists... 91%\r",
      "\r",
      "Reading package lists... 94%\r",
      "\r",
      "Reading package lists... 94%\r"
     ]
    },
    {
     "name": "stdout",
     "output_type": "stream",
     "text": [
      "\r",
      "Reading package lists... 95%\r",
      "\r",
      "Reading package lists... 95%\r",
      "\r",
      "Reading package lists... 95%\r",
      "\r",
      "Reading package lists... 95%\r",
      "\r",
      "Reading package lists... 95%\r",
      "\r",
      "Reading package lists... 95%\r",
      "\r",
      "Reading package lists... 95%\r",
      "\r",
      "Reading package lists... 95%\r",
      "\r",
      "Reading package lists... 95%\r",
      "\r",
      "Reading package lists... 98%\r",
      "\r",
      "Reading package lists... 98%\r",
      "\r",
      "Reading package lists... 98%\r",
      "\r",
      "Reading package lists... 98%\r",
      "\r",
      "Reading package lists... 98%\r",
      "\r",
      "Reading package lists... 98%\r",
      "\r",
      "Reading package lists... 98%\r",
      "\r",
      "Reading package lists... 98%\r",
      "\r",
      "Reading package lists... 98%\r",
      "\r",
      "Reading package lists... 98%\r",
      "\r",
      "Reading package lists... 98%\r",
      "\r",
      "Reading package lists... 98%\r",
      "\r",
      "Reading package lists... 98%\r",
      "\r",
      "Reading package lists... 98%\r",
      "\r",
      "Reading package lists... 98%\r",
      "\r",
      "Reading package lists... 98%\r",
      "\r",
      "Reading package lists... 98%\r",
      "\r",
      "Reading package lists... 98%\r",
      "\r",
      "Reading package lists... 98%\r",
      "\r",
      "Reading package lists... 98%\r",
      "\r",
      "Reading package lists... 99%\r",
      "\r",
      "Reading package lists... 99%\r"
     ]
    },
    {
     "name": "stdout",
     "output_type": "stream",
     "text": [
      "\r",
      "Reading package lists... 99%\r",
      "\r",
      "Reading package lists... 99%\r"
     ]
    },
    {
     "name": "stdout",
     "output_type": "stream",
     "text": [
      "\r",
      "Reading package lists... Done\r",
      "\r\n"
     ]
    },
    {
     "name": "stdout",
     "output_type": "stream",
     "text": [
      "\r",
      "Reading package lists... 0%\r"
     ]
    },
    {
     "name": "stdout",
     "output_type": "stream",
     "text": [
      "\r",
      "Reading package lists... 100%\r",
      "\r",
      "Reading package lists... Done\r",
      "\r\n",
      "\r",
      "Building dependency tree... 0%\r",
      "\r",
      "Building dependency tree... 0%\r",
      "\r",
      "Building dependency tree... 50%\r",
      "\r",
      "Building dependency tree... 50%\r"
     ]
    },
    {
     "name": "stdout",
     "output_type": "stream",
     "text": [
      "\r",
      "Building dependency tree       \r",
      "\r\n",
      "\r",
      "Reading state information... 0%\r",
      "\r",
      "Reading state information... 0%\r",
      "\r",
      "Reading state information... Done\r",
      "\r\n",
      "freeglut3-dev is already the newest version (2.8.1-3).\r\n",
      "ffmpeg is already the newest version (7:4.2.4-1ubuntu0.1).\r\n",
      "xvfb is already the newest version (2:1.20.13-1ubuntu1~20.04.2).\r\n"
     ]
    },
    {
     "name": "stdout",
     "output_type": "stream",
     "text": [
      "The following packages were automatically installed and are no longer required:\r\n",
      "  libatasmart4 libblockdev-fs2 libblockdev-loop2 libblockdev-part-err2\r\n",
      "  libblockdev-part2 libblockdev-swap2 libblockdev-utils2 libblockdev2\r\n",
      "  libparted-fs-resize0\r\n",
      "Use 'sudo apt autoremove' to remove them.\r\n"
     ]
    },
    {
     "name": "stdout",
     "output_type": "stream",
     "text": [
      "0 upgraded, 0 newly installed, 0 to remove and 134 not upgraded.\r\n"
     ]
    },
    {
     "name": "stdout",
     "output_type": "stream",
     "text": [
      "Collecting imageio==2.4.0\r\n",
      "  Using cached imageio-2.4.0-py3-none-any.whl\r\n",
      "Requirement already satisfied: numpy in /tmpfs/src/tf_docs_env/lib/python3.9/site-packages (from imageio==2.4.0) (1.23.0rc2)\r\n",
      "Requirement already satisfied: pillow in /tmpfs/src/tf_docs_env/lib/python3.9/site-packages (from imageio==2.4.0) (9.1.1)\r\n"
     ]
    },
    {
     "name": "stdout",
     "output_type": "stream",
     "text": [
      "Installing collected packages: imageio\r\n",
      "  Attempting uninstall: imageio\r\n",
      "    Found existing installation: imageio 2.19.3\r\n",
      "    Uninstalling imageio-2.19.3:\r\n",
      "      Successfully uninstalled imageio-2.19.3\r\n"
     ]
    },
    {
     "name": "stdout",
     "output_type": "stream",
     "text": [
      "\u001b[31mERROR: pip's dependency resolver does not currently take into account all the packages that are installed. This behaviour is the source of the following dependency conflicts.\r\n",
      "scikit-image 0.19.2 requires imageio>=2.4.1, but you have imageio 2.4.0 which is incompatible.\u001b[0m\u001b[31m\r\n",
      "\u001b[0mSuccessfully installed imageio-2.4.0\r\n"
     ]
    },
    {
     "name": "stdout",
     "output_type": "stream",
     "text": [
      "Collecting pyvirtualdisplay\r\n",
      "  Using cached PyVirtualDisplay-3.0-py3-none-any.whl (15 kB)\r\n"
     ]
    },
    {
     "name": "stdout",
     "output_type": "stream",
     "text": [
      "Installing collected packages: pyvirtualdisplay\r\n"
     ]
    },
    {
     "name": "stdout",
     "output_type": "stream",
     "text": [
      "Successfully installed pyvirtualdisplay-3.0\r\n"
     ]
    },
    {
     "name": "stdout",
     "output_type": "stream",
     "text": [
      "Collecting tf-agents[reverb]\r\n",
      "  Using cached tf_agents-0.13.0-py3-none-any.whl (1.3 MB)\r\n"
     ]
    },
    {
     "name": "stdout",
     "output_type": "stream",
     "text": [
      "Requirement already satisfied: absl-py>=0.6.1 in /tmpfs/src/tf_docs_env/lib/python3.9/site-packages (from tf-agents[reverb]) (1.1.0)\r\n",
      "Requirement already satisfied: numpy>=1.13.3 in /tmpfs/src/tf_docs_env/lib/python3.9/site-packages (from tf-agents[reverb]) (1.23.0rc2)\r\n",
      "Requirement already satisfied: protobuf>=3.11.3 in /tmpfs/src/tf_docs_env/lib/python3.9/site-packages (from tf-agents[reverb]) (3.19.4)\r\n",
      "Collecting cloudpickle>=1.3\r\n",
      "  Using cached cloudpickle-2.1.0-py3-none-any.whl (25 kB)\r\n"
     ]
    },
    {
     "name": "stdout",
     "output_type": "stream",
     "text": [
      "Collecting pygame==2.1.0\r\n"
     ]
    },
    {
     "name": "stdout",
     "output_type": "stream",
     "text": [
      "  Using cached pygame-2.1.0-cp39-cp39-manylinux_2_17_x86_64.manylinux2014_x86_64.whl (18.3 MB)\r\n"
     ]
    },
    {
     "name": "stdout",
     "output_type": "stream",
     "text": [
      "Requirement already satisfied: six>=1.10.0 in /tmpfs/src/tf_docs_env/lib/python3.9/site-packages (from tf-agents[reverb]) (1.16.0)\r\n"
     ]
    },
    {
     "name": "stdout",
     "output_type": "stream",
     "text": [
      "Collecting gin-config>=0.4.0\r\n",
      "  Using cached gin_config-0.5.0-py3-none-any.whl (61 kB)\r\n",
      "Requirement already satisfied: typing-extensions>=3.7.4.3 in /tmpfs/src/tf_docs_env/lib/python3.9/site-packages (from tf-agents[reverb]) (4.2.0)\r\n",
      "Collecting tensorflow-probability>=0.16.0\r\n"
     ]
    },
    {
     "name": "stdout",
     "output_type": "stream",
     "text": [
      "  Using cached tensorflow_probability-0.16.0-py2.py3-none-any.whl (6.3 MB)\r\n",
      "Requirement already satisfied: wrapt>=1.11.1 in /tmpfs/src/tf_docs_env/lib/python3.9/site-packages (from tf-agents[reverb]) (1.14.1)\r\n"
     ]
    },
    {
     "name": "stdout",
     "output_type": "stream",
     "text": [
      "Collecting gym<=0.23.0,>=0.17.0\r\n",
      "  Using cached gym-0.23.0-py3-none-any.whl\r\n",
      "Requirement already satisfied: pillow in /tmpfs/src/tf_docs_env/lib/python3.9/site-packages (from tf-agents[reverb]) (9.1.1)\r\n"
     ]
    },
    {
     "name": "stdout",
     "output_type": "stream",
     "text": [
      "Collecting rlds\r\n",
      "  Using cached rlds-0.1.4-py3-none-manylinux2010_x86_64.whl (37 kB)\r\n",
      "Requirement already satisfied: tensorflow~=2.9.0 in /tmpfs/src/tf_docs_env/lib/python3.9/site-packages (from tf-agents[reverb]) (2.9.1)\r\n",
      "Collecting dm-reverb~=0.8.0\r\n"
     ]
    },
    {
     "name": "stdout",
     "output_type": "stream",
     "text": [
      "  Using cached dm_reverb-0.8.0-cp39-cp39-manylinux2014_x86_64.whl (6.5 MB)\r\n"
     ]
    },
    {
     "name": "stdout",
     "output_type": "stream",
     "text": [
      "Collecting dm-tree\r\n",
      "  Using cached dm_tree-0.1.7-cp39-cp39-manylinux_2_12_x86_64.manylinux2010_x86_64.whl (142 kB)\r\n"
     ]
    },
    {
     "name": "stdout",
     "output_type": "stream",
     "text": [
      "Collecting portpicker\r\n",
      "  Using cached portpicker-1.5.0-py3-none-any.whl (14 kB)\r\n",
      "Requirement already satisfied: importlib-metadata>=4.10.0 in /tmpfs/src/tf_docs_env/lib/python3.9/site-packages (from gym<=0.23.0,>=0.17.0->tf-agents[reverb]) (4.11.4)\r\n"
     ]
    },
    {
     "name": "stdout",
     "output_type": "stream",
     "text": [
      "Collecting gym-notices>=0.0.4\r\n",
      "  Using cached gym_notices-0.0.7-py3-none-any.whl (2.7 kB)\r\n",
      "Requirement already satisfied: keras-preprocessing>=1.1.1 in /tmpfs/src/tf_docs_env/lib/python3.9/site-packages (from tensorflow~=2.9.0->tf-agents[reverb]) (1.1.2)\r\n",
      "Requirement already satisfied: tensorboard<2.10,>=2.9 in /tmpfs/src/tf_docs_env/lib/python3.9/site-packages (from tensorflow~=2.9.0->tf-agents[reverb]) (2.9.0)\r\n",
      "Requirement already satisfied: opt-einsum>=2.3.2 in /tmpfs/src/tf_docs_env/lib/python3.9/site-packages (from tensorflow~=2.9.0->tf-agents[reverb]) (3.3.0)\r\n",
      "Requirement already satisfied: flatbuffers<2,>=1.12 in /tmpfs/src/tf_docs_env/lib/python3.9/site-packages (from tensorflow~=2.9.0->tf-agents[reverb]) (1.12)\r\n",
      "Requirement already satisfied: gast<=0.4.0,>=0.2.1 in /tmpfs/src/tf_docs_env/lib/python3.9/site-packages (from tensorflow~=2.9.0->tf-agents[reverb]) (0.4.0)\r\n",
      "Requirement already satisfied: libclang>=13.0.0 in /tmpfs/src/tf_docs_env/lib/python3.9/site-packages (from tensorflow~=2.9.0->tf-agents[reverb]) (14.0.1)\r\n",
      "Requirement already satisfied: tensorflow-io-gcs-filesystem>=0.23.1 in /tmpfs/src/tf_docs_env/lib/python3.9/site-packages (from tensorflow~=2.9.0->tf-agents[reverb]) (0.26.0)\r\n",
      "Requirement already satisfied: grpcio<2.0,>=1.24.3 in /tmpfs/src/tf_docs_env/lib/python3.9/site-packages (from tensorflow~=2.9.0->tf-agents[reverb]) (1.46.3)\r\n",
      "Requirement already satisfied: h5py>=2.9.0 in /tmpfs/src/tf_docs_env/lib/python3.9/site-packages (from tensorflow~=2.9.0->tf-agents[reverb]) (3.7.0)\r\n",
      "Requirement already satisfied: termcolor>=1.1.0 in /tmpfs/src/tf_docs_env/lib/python3.9/site-packages (from tensorflow~=2.9.0->tf-agents[reverb]) (1.1.0)\r\n",
      "Requirement already satisfied: tensorflow-estimator<2.10.0,>=2.9.0rc0 in /tmpfs/src/tf_docs_env/lib/python3.9/site-packages (from tensorflow~=2.9.0->tf-agents[reverb]) (2.9.0)\r\n",
      "Requirement already satisfied: google-pasta>=0.1.1 in /tmpfs/src/tf_docs_env/lib/python3.9/site-packages (from tensorflow~=2.9.0->tf-agents[reverb]) (0.2.0)\r\n",
      "Requirement already satisfied: setuptools in /tmpfs/src/tf_docs_env/lib/python3.9/site-packages (from tensorflow~=2.9.0->tf-agents[reverb]) (62.3.2)\r\n",
      "Requirement already satisfied: packaging in /tmpfs/src/tf_docs_env/lib/python3.9/site-packages (from tensorflow~=2.9.0->tf-agents[reverb]) (21.3)\r\n",
      "Requirement already satisfied: astunparse>=1.6.0 in /tmpfs/src/tf_docs_env/lib/python3.9/site-packages (from tensorflow~=2.9.0->tf-agents[reverb]) (1.6.3)\r\n",
      "Requirement already satisfied: keras<2.10.0,>=2.9.0rc0 in /tmpfs/src/tf_docs_env/lib/python3.9/site-packages (from tensorflow~=2.9.0->tf-agents[reverb]) (2.9.0)\r\n",
      "Requirement already satisfied: decorator in /tmpfs/src/tf_docs_env/lib/python3.9/site-packages (from tensorflow-probability>=0.16.0->tf-agents[reverb]) (5.1.1)\r\n"
     ]
    },
    {
     "name": "stdout",
     "output_type": "stream",
     "text": [
      "Requirement already satisfied: wheel<1.0,>=0.23.0 in /tmpfs/src/tf_docs_env/lib/python3.9/site-packages (from astunparse>=1.6.0->tensorflow~=2.9.0->tf-agents[reverb]) (0.37.1)\r\n"
     ]
    },
    {
     "name": "stdout",
     "output_type": "stream",
     "text": [
      "Requirement already satisfied: zipp>=0.5 in /tmpfs/src/tf_docs_env/lib/python3.9/site-packages (from importlib-metadata>=4.10.0->gym<=0.23.0,>=0.17.0->tf-agents[reverb]) (3.8.0)\r\n",
      "Requirement already satisfied: requests<3,>=2.21.0 in /tmpfs/src/tf_docs_env/lib/python3.9/site-packages (from tensorboard<2.10,>=2.9->tensorflow~=2.9.0->tf-agents[reverb]) (2.27.1)\r\n",
      "Requirement already satisfied: tensorboard-data-server<0.7.0,>=0.6.0 in /tmpfs/src/tf_docs_env/lib/python3.9/site-packages (from tensorboard<2.10,>=2.9->tensorflow~=2.9.0->tf-agents[reverb]) (0.6.1)\r\n",
      "Requirement already satisfied: google-auth<3,>=1.6.3 in /tmpfs/src/tf_docs_env/lib/python3.9/site-packages (from tensorboard<2.10,>=2.9->tensorflow~=2.9.0->tf-agents[reverb]) (2.6.6)\r\n",
      "Requirement already satisfied: markdown>=2.6.8 in /tmpfs/src/tf_docs_env/lib/python3.9/site-packages (from tensorboard<2.10,>=2.9->tensorflow~=2.9.0->tf-agents[reverb]) (3.3.7)\r\n",
      "Requirement already satisfied: google-auth-oauthlib<0.5,>=0.4.1 in /tmpfs/src/tf_docs_env/lib/python3.9/site-packages (from tensorboard<2.10,>=2.9->tensorflow~=2.9.0->tf-agents[reverb]) (0.4.6)\r\n",
      "Requirement already satisfied: werkzeug>=1.0.1 in /tmpfs/src/tf_docs_env/lib/python3.9/site-packages (from tensorboard<2.10,>=2.9->tensorflow~=2.9.0->tf-agents[reverb]) (2.1.2)\r\n",
      "Requirement already satisfied: tensorboard-plugin-wit>=1.6.0 in /tmpfs/src/tf_docs_env/lib/python3.9/site-packages (from tensorboard<2.10,>=2.9->tensorflow~=2.9.0->tf-agents[reverb]) (1.8.1)\r\n"
     ]
    },
    {
     "name": "stdout",
     "output_type": "stream",
     "text": [
      "Requirement already satisfied: pyparsing!=3.0.5,>=2.0.2 in /tmpfs/src/tf_docs_env/lib/python3.9/site-packages (from packaging->tensorflow~=2.9.0->tf-agents[reverb]) (3.0.9)\r\n",
      "Requirement already satisfied: psutil in /tmpfs/src/tf_docs_env/lib/python3.9/site-packages (from portpicker->dm-reverb~=0.8.0->tf-agents[reverb]) (5.9.1)\r\n",
      "Requirement already satisfied: pyasn1-modules>=0.2.1 in /tmpfs/src/tf_docs_env/lib/python3.9/site-packages (from google-auth<3,>=1.6.3->tensorboard<2.10,>=2.9->tensorflow~=2.9.0->tf-agents[reverb]) (0.2.8)\r\n",
      "Requirement already satisfied: rsa<5,>=3.1.4 in /tmpfs/src/tf_docs_env/lib/python3.9/site-packages (from google-auth<3,>=1.6.3->tensorboard<2.10,>=2.9->tensorflow~=2.9.0->tf-agents[reverb]) (4.8)\r\n",
      "Requirement already satisfied: cachetools<6.0,>=2.0.0 in /tmpfs/src/tf_docs_env/lib/python3.9/site-packages (from google-auth<3,>=1.6.3->tensorboard<2.10,>=2.9->tensorflow~=2.9.0->tf-agents[reverb]) (5.2.0)\r\n",
      "Requirement already satisfied: requests-oauthlib>=0.7.0 in /tmpfs/src/tf_docs_env/lib/python3.9/site-packages (from google-auth-oauthlib<0.5,>=0.4.1->tensorboard<2.10,>=2.9->tensorflow~=2.9.0->tf-agents[reverb]) (1.3.1)\r\n"
     ]
    },
    {
     "name": "stdout",
     "output_type": "stream",
     "text": [
      "Requirement already satisfied: urllib3<1.27,>=1.21.1 in /tmpfs/src/tf_docs_env/lib/python3.9/site-packages (from requests<3,>=2.21.0->tensorboard<2.10,>=2.9->tensorflow~=2.9.0->tf-agents[reverb]) (1.26.9)\r\n",
      "Requirement already satisfied: certifi>=2017.4.17 in /tmpfs/src/tf_docs_env/lib/python3.9/site-packages (from requests<3,>=2.21.0->tensorboard<2.10,>=2.9->tensorflow~=2.9.0->tf-agents[reverb]) (2022.5.18.1)\r\n",
      "Requirement already satisfied: charset-normalizer~=2.0.0 in /tmpfs/src/tf_docs_env/lib/python3.9/site-packages (from requests<3,>=2.21.0->tensorboard<2.10,>=2.9->tensorflow~=2.9.0->tf-agents[reverb]) (2.0.12)\r\n",
      "Requirement already satisfied: idna<4,>=2.5 in /tmpfs/src/tf_docs_env/lib/python3.9/site-packages (from requests<3,>=2.21.0->tensorboard<2.10,>=2.9->tensorflow~=2.9.0->tf-agents[reverb]) (3.3)\r\n"
     ]
    },
    {
     "name": "stdout",
     "output_type": "stream",
     "text": [
      "Requirement already satisfied: pyasn1<0.5.0,>=0.4.6 in /tmpfs/src/tf_docs_env/lib/python3.9/site-packages (from pyasn1-modules>=0.2.1->google-auth<3,>=1.6.3->tensorboard<2.10,>=2.9->tensorflow~=2.9.0->tf-agents[reverb]) (0.4.8)\r\n",
      "Requirement already satisfied: oauthlib>=3.0.0 in /tmpfs/src/tf_docs_env/lib/python3.9/site-packages (from requests-oauthlib>=0.7.0->google-auth-oauthlib<0.5,>=0.4.1->tensorboard<2.10,>=2.9->tensorflow~=2.9.0->tf-agents[reverb]) (3.2.0)\r\n"
     ]
    },
    {
     "name": "stdout",
     "output_type": "stream",
     "text": [
      "Installing collected packages: gym-notices, gin-config, dm-tree, rlds, pygame, portpicker, cloudpickle, tensorflow-probability, gym, dm-reverb, tf-agents\r\n"
     ]
    },
    {
     "name": "stdout",
     "output_type": "stream",
     "text": [
      "Successfully installed cloudpickle-2.1.0 dm-reverb-0.8.0 dm-tree-0.1.7 gin-config-0.5.0 gym-0.23.0 gym-notices-0.0.7 portpicker-1.5.0 pygame-2.1.0 rlds-0.1.4 tensorflow-probability-0.16.0 tf-agents-0.13.0\r\n"
     ]
    },
    {
     "name": "stdout",
     "output_type": "stream",
     "text": [
      "Requirement already satisfied: pyglet in /tmpfs/src/tf_docs_env/lib/python3.9/site-packages (1.5.26)\r\n"
     ]
    }
   ],
   "source": [
    "!sudo apt-get update\n",
    "!sudo apt-get install -y xvfb ffmpeg freeglut3-dev\n",
    "!pip install 'imageio==2.4.0'\n",
    "!pip install pyvirtualdisplay\n",
    "!pip install tf-agents[reverb]\n",
    "!pip install pyglet"
   ]
  },
  {
   "cell_type": "code",
   "execution_count": 3,
   "metadata": {
    "execution": {
     "iopub.execute_input": "2022-06-05T12:53:25.478310Z",
     "iopub.status.busy": "2022-06-05T12:53:25.478043Z",
     "iopub.status.idle": "2022-06-05T12:53:28.208682Z",
     "shell.execute_reply": "2022-06-05T12:53:28.208001Z"
    },
    "id": "sMitx5qSgJk1"
   },
   "outputs": [],
   "source": [
    "from __future__ import absolute_import, division, print_function\n",
    "\n",
    "import base64\n",
    "import imageio\n",
    "import IPython\n",
    "import matplotlib\n",
    "import matplotlib.pyplot as plt\n",
    "import numpy as np\n",
    "import PIL.Image\n",
    "import pyvirtualdisplay\n",
    "import reverb\n",
    "\n",
    "import tensorflow as tf\n",
    "\n",
    "from tf_agents.agents.dqn import dqn_agent\n",
    "from tf_agents.drivers import py_driver\n",
    "from tf_agents.environments import suite_gym\n",
    "from tf_agents.environments import tf_py_environment\n",
    "from tf_agents.eval import metric_utils\n",
    "from tf_agents.metrics import tf_metrics\n",
    "from tf_agents.networks import sequential\n",
    "from tf_agents.policies import py_tf_eager_policy\n",
    "from tf_agents.policies import random_tf_policy\n",
    "from tf_agents.replay_buffers import reverb_replay_buffer\n",
    "from tf_agents.replay_buffers import reverb_utils\n",
    "from tf_agents.trajectories import trajectory\n",
    "from tf_agents.specs import tensor_spec\n",
    "from tf_agents.utils import common"
   ]
  },
  {
   "cell_type": "code",
   "execution_count": 4,
   "metadata": {
    "execution": {
     "iopub.execute_input": "2022-06-05T12:53:28.212879Z",
     "iopub.status.busy": "2022-06-05T12:53:28.212462Z",
     "iopub.status.idle": "2022-06-05T12:53:28.285512Z",
     "shell.execute_reply": "2022-06-05T12:53:28.284475Z"
    },
    "id": "J6HsdS5GbSjd"
   },
   "outputs": [],
   "source": [
    "# Set up a virtual display for rendering OpenAI gym environments.\n",
    "display = pyvirtualdisplay.Display(visible=0, size=(1400, 900)).start()"
   ]
  },
  {
   "cell_type": "code",
   "execution_count": 5,
   "metadata": {
    "execution": {
     "iopub.execute_input": "2022-06-05T12:53:28.289241Z",
     "iopub.status.busy": "2022-06-05T12:53:28.288975Z",
     "iopub.status.idle": "2022-06-05T12:53:28.298646Z",
     "shell.execute_reply": "2022-06-05T12:53:28.298132Z"
    },
    "id": "NspmzG4nP3b9"
   },
   "outputs": [
    {
     "data": {
      "text/plain": [
       "'2.9.1'"
      ]
     },
     "execution_count": 5,
     "metadata": {},
     "output_type": "execute_result"
    }
   ],
   "source": [
    "tf.version.VERSION"
   ]
  },
  {
   "cell_type": "markdown",
   "metadata": {
    "id": "LmC0NDhdLIKY"
   },
   "source": [
    "## Hyperparameters"
   ]
  },
  {
   "cell_type": "code",
   "execution_count": 6,
   "metadata": {
    "execution": {
     "iopub.execute_input": "2022-06-05T12:53:28.301648Z",
     "iopub.status.busy": "2022-06-05T12:53:28.301394Z",
     "iopub.status.idle": "2022-06-05T12:53:28.305036Z",
     "shell.execute_reply": "2022-06-05T12:53:28.304545Z"
    },
    "id": "HC1kNrOsLSIZ"
   },
   "outputs": [],
   "source": [
    "num_iterations = 20000 # @param {type:\"integer\"}\n",
    "\n",
    "initial_collect_steps = 100  # @param {type:\"integer\"}\n",
    "collect_steps_per_iteration =   1# @param {type:\"integer\"}\n",
    "replay_buffer_max_length = 100000  # @param {type:\"integer\"}\n",
    "\n",
    "batch_size = 64  # @param {type:\"integer\"}\n",
    "learning_rate = 1e-3  # @param {type:\"number\"}\n",
    "log_interval = 200  # @param {type:\"integer\"}\n",
    "\n",
    "num_eval_episodes = 10  # @param {type:\"integer\"}\n",
    "eval_interval = 1000  # @param {type:\"integer\"}"
   ]
  },
  {
   "cell_type": "markdown",
   "metadata": {
    "id": "VMsJC3DEgI0x"
   },
   "source": [
    "## Environment\n",
    "\n",
    "In Reinforcement Learning (RL), an environment represents the task or problem to be solved. Standard environments can be created in TF-Agents using `tf_agents.environments` suites. TF-Agents has suites for loading environments from sources such as the OpenAI Gym, Atari, and DM Control.\n",
    "\n",
    "Load the CartPole environment from the OpenAI Gym suite. "
   ]
  },
  {
   "cell_type": "code",
   "execution_count": 7,
   "metadata": {
    "execution": {
     "iopub.execute_input": "2022-06-05T12:53:28.307821Z",
     "iopub.status.busy": "2022-06-05T12:53:28.307604Z",
     "iopub.status.idle": "2022-06-05T12:53:28.334952Z",
     "shell.execute_reply": "2022-06-05T12:53:28.334384Z"
    },
    "id": "pYEz-S9gEv2-"
   },
   "outputs": [],
   "source": [
    "env_name = 'CartPole-v0'\n",
    "env = suite_gym.load(env_name)"
   ]
  },
  {
   "cell_type": "markdown",
   "metadata": {
    "id": "IIHYVBkuvPNw"
   },
   "source": [
    "You can render this environment to see how it looks. A free-swinging pole is attached to a cart.  The goal is to move the cart right or left in order to keep the pole pointing up."
   ]
  },
  {
   "cell_type": "code",
   "execution_count": 8,
   "metadata": {
    "execution": {
     "iopub.execute_input": "2022-06-05T12:53:28.337765Z",
     "iopub.status.busy": "2022-06-05T12:53:28.337536Z",
     "iopub.status.idle": "2022-06-05T12:53:28.454108Z",
     "shell.execute_reply": "2022-06-05T12:53:28.453547Z"
    },
    "id": "RlO7WIQHu_7D"
   },
   "outputs": [
    {
     "data": {
      "image/png": "[encoded data removed]",
      "text/plain": [
       "<PIL.Image.Image image mode=RGB size=600x400>"
      ]
     },
     "execution_count": 8,
     "metadata": {},
     "output_type": "execute_result"
    }
   ],
   "source": [
    "#@test {\"skip\": true}\n",
    "env.reset()\n",
    "PIL.Image.fromarray(env.render())"
   ]
  },
  {
   "cell_type": "markdown",
   "metadata": {
    "id": "B9_lskPOey18"
   },
   "source": [
    "The `environment.step` method takes an `action` in the environment and returns a `TimeStep` tuple containing the next observation of the environment and the reward for the action.\n",
    "\n",
    "The `time_step_spec()` method returns the specification for the `TimeStep` tuple. Its `observation` attribute shows the shape of observations, the data types, and the ranges of allowed values. The `reward` attribute shows the same details for the reward.\n"
   ]
  },
  {
   "cell_type": "code",
   "execution_count": 9,
   "metadata": {
    "execution": {
     "iopub.execute_input": "2022-06-05T12:53:28.456964Z",
     "iopub.status.busy": "2022-06-05T12:53:28.456736Z",
     "iopub.status.idle": "2022-06-05T12:53:28.463838Z",
     "shell.execute_reply": "2022-06-05T12:53:28.463266Z"
    },
    "id": "exDv57iHfwQV"
   },
   "outputs": [
    {
     "name": "stdout",
     "output_type": "stream",
     "text": [
      "Observation Spec:\n",
      "BoundedArraySpec(shape=(4,), dtype=dtype('float32'), name='observation', minimum=[-4.8000002e+00 -3.4028235e+38 -4.1887903e-01 -3.4028235e+38], maximum=[4.8000002e+00 3.4028235e+38 4.1887903e-01 3.4028235e+38])\n"
     ]
    }
   ],
   "source": [
    "print('Observation Spec:')\n",
    "print(env.time_step_spec().observation)"
   ]
  },
  {
   "cell_type": "code",
   "execution_count": 10,
   "metadata": {
    "execution": {
     "iopub.execute_input": "2022-06-05T12:53:28.466355Z",
     "iopub.status.busy": "2022-06-05T12:53:28.466103Z",
     "iopub.status.idle": "2022-06-05T12:53:28.469756Z",
     "shell.execute_reply": "2022-06-05T12:53:28.469217Z"
    },
    "id": "UxiSyCbBUQPi"
   },
   "outputs": [
    {
     "name": "stdout",
     "output_type": "stream",
     "text": [
      "Reward Spec:\n",
      "ArraySpec(shape=(), dtype=dtype('float32'), name='reward')\n"
     ]
    }
   ],
   "source": [
    "print('Reward Spec:')\n",
    "print(env.time_step_spec().reward)"
   ]
  },
  {
   "cell_type": "markdown",
   "metadata": {
    "id": "b_lHcIcqUaqB"
   },
   "source": [
    "The `action_spec()` method returns the shape, data types, and allowed values of valid actions."
   ]
  },
  {
   "cell_type": "code",
   "execution_count": 11,
   "metadata": {
    "execution": {
     "iopub.execute_input": "2022-06-05T12:53:28.472597Z",
     "iopub.status.busy": "2022-06-05T12:53:28.472375Z",
     "iopub.status.idle": "2022-06-05T12:53:28.475667Z",
     "shell.execute_reply": "2022-06-05T12:53:28.475111Z"
    },
    "id": "bttJ4uxZUQBr"
   },
   "outputs": [
    {
     "name": "stdout",
     "output_type": "stream",
     "text": [
      "Action Spec:\n",
      "BoundedArraySpec(shape=(), dtype=dtype('int64'), name='action', minimum=0, maximum=1)\n"
     ]
    }
   ],
   "source": [
    "print('Action Spec:')\n",
    "print(env.action_spec())"
   ]
  },
  {
   "cell_type": "markdown",
   "metadata": {
    "id": "eJCgJnx3g0yY"
   },
   "source": [
    "In the Cartpole environment:\n",
    "\n",
    "-   `observation` is an array of 4 floats: \n",
    "    -   the position and velocity of the cart\n",
    "    -   the angular position and velocity of the pole \n",
    "-   `reward` is a scalar float value\n",
    "-   `action` is a scalar integer with only two possible values:\n",
    "    -   `0` — \"move left\"\n",
    "    -   `1` — \"move right\"\n"
   ]
  },
  {
   "cell_type": "code",
   "execution_count": 12,
   "metadata": {
    "execution": {
     "iopub.execute_input": "2022-06-05T12:53:28.478547Z",
     "iopub.status.busy": "2022-06-05T12:53:28.478272Z",
     "iopub.status.idle": "2022-06-05T12:53:28.631486Z",
     "shell.execute_reply": "2022-06-05T12:53:28.630898Z"
    },
    "id": "V2UGR5t_iZX-"
   },
   "outputs": [
    {
     "name": "stdout",
     "output_type": "stream",
     "text": [
      "Time step:\n",
      "TimeStep(\n",
      "{'discount': array(1., dtype=float32),\n",
      " 'observation': array([0.04757392, 0.02425355, 0.04416838, 0.04983724], dtype=float32),\n",
      " 'reward': array(0., dtype=float32),\n",
      " 'step_type': array(0, dtype=int32)})\n",
      "Next time step:\n",
      "TimeStep(\n",
      "{'discount': array(1., dtype=float32),\n",
      " 'observation': array([ 0.04805899,  0.21871525,  0.04516513, -0.22858955], dtype=float32),\n",
      " 'reward': array(1., dtype=float32),\n",
      " 'step_type': array(1, dtype=int32)})\n"
     ]
    }
   ],
   "source": [
    "time_step = env.reset()\n",
    "print('Time step:')\n",
    "print(time_step)\n",
    "\n",
    "action = np.array(1, dtype=np.int32)\n",
    "\n",
    "next_time_step = env.step(action)\n",
    "print('Next time step:')\n",
    "print(next_time_step)"
   ]
  },
  {
   "cell_type": "markdown",
   "metadata": {
    "id": "4JSc9GviWUBK"
   },
   "source": [
    "Usually two environments are instantiated: one for training and one for evaluation. "
   ]
  },
  {
   "cell_type": "code",
   "execution_count": 13,
   "metadata": {
    "execution": {
     "iopub.execute_input": "2022-06-05T12:53:28.634304Z",
     "iopub.status.busy": "2022-06-05T12:53:28.634066Z",
     "iopub.status.idle": "2022-06-05T12:53:28.639229Z",
     "shell.execute_reply": "2022-06-05T12:53:28.638706Z"
    },
    "id": "N7brXNIGWXjC"
   },
   "outputs": [],
   "source": [
    "train_py_env = suite_gym.load(env_name)\n",
    "eval_py_env = suite_gym.load(env_name)"
   ]
  },
  {
   "cell_type": "markdown",
   "metadata": {
    "id": "zuUqXAVmecTU"
   },
   "source": [
    "The Cartpole environment, like most environments, is written in pure Python. This is converted to TensorFlow using the `TFPyEnvironment` wrapper.\n",
    "\n",
    "The original environment's API uses Numpy arrays. The `TFPyEnvironment` converts these to `Tensors` to make it compatible with Tensorflow agents and policies.\n"
   ]
  },
  {
   "cell_type": "code",
   "execution_count": 14,
   "metadata": {
    "execution": {
     "iopub.execute_input": "2022-06-05T12:53:28.641875Z",
     "iopub.status.busy": "2022-06-05T12:53:28.641635Z",
     "iopub.status.idle": "2022-06-05T12:53:28.650182Z",
     "shell.execute_reply": "2022-06-05T12:53:28.649685Z"
    },
    "id": "Xp-Y4mD6eDhF"
   },
   "outputs": [],
   "source": [
    "train_env = tf_py_environment.TFPyEnvironment(train_py_env)\n",
    "eval_env = tf_py_environment.TFPyEnvironment(eval_py_env)"
   ]
  },
  {
   "cell_type": "markdown",
   "metadata": {
    "id": "E9lW_OZYFR8A"
   },
   "source": [
    "## Agent\n",
    "\n",
    "The algorithm used to solve an RL problem is represented by an `Agent`. TF-Agents provides standard implementations of a variety of `Agents`, including:\n",
    "\n",
    "-   [DQN](https://storage.googleapis.com/deepmind-media/dqn/DQNNaturePaper.pdf) (used in this tutorial)\n",
    "-   [REINFORCE](https://www-anw.cs.umass.edu/~barto/courses/cs687/williams92simple.pdf)\n",
    "-   [DDPG](https://arxiv.org/pdf/1509.02971.pdf)\n",
    "-   [TD3](https://arxiv.org/pdf/1802.09477.pdf)\n",
    "-   [PPO](https://arxiv.org/abs/1707.06347)\n",
    "-   [SAC](https://arxiv.org/abs/1801.01290)\n",
    "\n",
    "The DQN agent can be used in any environment which has a discrete action space.\n",
    "\n",
    "At the heart of a DQN Agent is a `QNetwork`, a neural network model that can learn to predict `QValues` (expected returns) for all actions, given an observation from the environment.\n",
    "\n",
    "We will use `tf_agents.networks.` to create a `QNetwork`. The network will consist of a sequence of `tf.keras.layers.Dense` layers, where the final layer will have 1 output for each possible action."
   ]
  },
  {
   "cell_type": "code",
   "execution_count": 15,
   "metadata": {
    "execution": {
     "iopub.execute_input": "2022-06-05T12:53:28.652887Z",
     "iopub.status.busy": "2022-06-05T12:53:28.652665Z",
     "iopub.status.idle": "2022-06-05T12:53:28.671981Z",
     "shell.execute_reply": "2022-06-05T12:53:28.671448Z"
    },
    "id": "TgkdEPg_muzV"
   },
   "outputs": [],
   "source": [
    "fc_layer_params = (100, 50)\n",
    "action_tensor_spec = tensor_spec.from_spec(env.action_spec())\n",
    "num_actions = action_tensor_spec.maximum - action_tensor_spec.minimum + 1\n",
    "\n",
    "# Define a helper function to create Dense layers configured with the right\n",
    "# activation and kernel initializer.\n",
    "def dense_layer(num_units):\n",
    "  return tf.keras.layers.Dense(\n",
    "      num_units,\n",
    "      activation=tf.keras.activations.relu,\n",
    "      kernel_initializer=tf.keras.initializers.VarianceScaling(\n",
    "          scale=2.0, mode='fan_in', distribution='truncated_normal'))\n",
    "\n",
    "# QNetwork consists of a sequence of Dense layers followed by a dense layer\n",
    "# with `num_actions` units to generate one q_value per available action as\n",
    "# its output.\n",
    "dense_layers = [dense_layer(num_units) for num_units in fc_layer_params]\n",
    "q_values_layer = tf.keras.layers.Dense(\n",
    "    num_actions,\n",
    "    activation=None,\n",
    "    kernel_initializer=tf.keras.initializers.RandomUniform(\n",
    "        minval=-0.03, maxval=0.03),\n",
    "    bias_initializer=tf.keras.initializers.Constant(-0.2))\n",
    "q_net = sequential.Sequential(dense_layers + [q_values_layer])"
   ]
  },
  {
   "cell_type": "markdown",
   "metadata": {
    "id": "z62u55hSmviJ"
   },
   "source": [
    "Now use `tf_agents.agents.dqn.dqn_agent` to instantiate a `DqnAgent`. In addition to the `time_step_spec`, `action_spec` and the QNetwork, the agent constructor also requires an optimizer (in this case, `AdamOptimizer`), a loss function, and an integer step counter."
   ]
  },
  {
   "cell_type": "code",
   "execution_count": 16,
   "metadata": {
    "execution": {
     "iopub.execute_input": "2022-06-05T12:53:28.674647Z",
     "iopub.status.busy": "2022-06-05T12:53:28.674427Z",
     "iopub.status.idle": "2022-06-05T12:53:31.864722Z",
     "shell.execute_reply": "2022-06-05T12:53:31.864044Z"
    },
    "id": "jbY4yrjTEyc9"
   },
   "outputs": [],
   "source": [
    "optimizer = tf.keras.optimizers.Adam(learning_rate=learning_rate)\n",
    "\n",
    "train_step_counter = tf.Variable(0)\n",
    "\n",
    "agent = dqn_agent.DqnAgent(\n",
    "    train_env.time_step_spec(),\n",
    "    train_env.action_spec(),\n",
    "    q_network=q_net,\n",
    "    optimizer=optimizer,\n",
    "    td_errors_loss_fn=common.element_wise_squared_loss,\n",
    "    train_step_counter=train_step_counter)\n",
    "\n",
    "agent.initialize()"
   ]
  },
  {
   "cell_type": "markdown",
   "metadata": {
    "id": "I0KLrEPwkn5x"
   },
   "source": [
    "## Policies\n",
    "\n",
    "A policy defines the way an agent acts in an environment. Typically, the goal of reinforcement learning is to train the underlying model until the policy produces the desired outcome.\n",
    "\n",
    "In this tutorial:\n",
    "\n",
    "-   The desired outcome is keeping the pole balanced upright over the cart.\n",
    "-   The policy returns an action (left or right) for each `time_step` observation.\n",
    "\n",
    "Agents contain two policies: \n",
    "\n",
    "-   `agent.policy` — The main policy that is used for evaluation and deployment.\n",
    "-   `agent.collect_policy` — A second policy that is used for data collection.\n"
   ]
  },
  {
   "cell_type": "code",
   "execution_count": 17,
   "metadata": {
    "execution": {
     "iopub.execute_input": "2022-06-05T12:53:31.868889Z",
     "iopub.status.busy": "2022-06-05T12:53:31.868402Z",
     "iopub.status.idle": "2022-06-05T12:53:31.871471Z",
     "shell.execute_reply": "2022-06-05T12:53:31.870950Z"
    },
    "id": "BwY7StuMkuV4"
   },
   "outputs": [],
   "source": [
    "eval_policy = agent.policy\n",
    "collect_policy = agent.collect_policy"
   ]
  },
  {
   "cell_type": "markdown",
   "metadata": {
    "id": "2Qs1Fl3dV0ae"
   },
   "source": [
    "Policies can be created independently of agents. For example, use `tf_agents.policies.random_tf_policy` to create a policy which will randomly select an action for each `time_step`."
   ]
  },
  {
   "cell_type": "code",
   "execution_count": 18,
   "metadata": {
    "execution": {
     "iopub.execute_input": "2022-06-05T12:53:31.874751Z",
     "iopub.status.busy": "2022-06-05T12:53:31.874204Z",
     "iopub.status.idle": "2022-06-05T12:53:31.877599Z",
     "shell.execute_reply": "2022-06-05T12:53:31.877045Z"
    },
    "id": "HE37-UCIrE69"
   },
   "outputs": [],
   "source": [
    "random_policy = random_tf_policy.RandomTFPolicy(train_env.time_step_spec(),\n",
    "                                                train_env.action_spec())"
   ]
  },
  {
   "cell_type": "markdown",
   "metadata": {
    "id": "dOlnlRRsUbxP"
   },
   "source": [
    "To get an action from a policy, call the `policy.action(time_step)` method. The `time_step` contains the observation from the environment. This method returns a `PolicyStep`, which is a named tuple with three components:\n",
    "\n",
    "-   `action` — the action to be taken (in this case, `0` or `1`)\n",
    "-   `state` — used for stateful (that is, RNN-based) policies\n",
    "-   `info` — auxiliary data, such as log probabilities of actions"
   ]
  },
  {
   "cell_type": "code",
   "execution_count": 19,
   "metadata": {
    "execution": {
     "iopub.execute_input": "2022-06-05T12:53:31.880699Z",
     "iopub.status.busy": "2022-06-05T12:53:31.880191Z",
     "iopub.status.idle": "2022-06-05T12:53:31.886582Z",
     "shell.execute_reply": "2022-06-05T12:53:31.885995Z"
    },
    "id": "5gCcpXswVAxk"
   },
   "outputs": [],
   "source": [
    "example_environment = tf_py_environment.TFPyEnvironment(\n",
    "    suite_gym.load('CartPole-v0'))"
   ]
  },
  {
   "cell_type": "code",
   "execution_count": 20,
   "metadata": {
    "execution": {
     "iopub.execute_input": "2022-06-05T12:53:31.889554Z",
     "iopub.status.busy": "2022-06-05T12:53:31.889067Z",
     "iopub.status.idle": "2022-06-05T12:53:31.893187Z",
     "shell.execute_reply": "2022-06-05T12:53:31.892592Z"
    },
    "id": "D4DHZtq3Ndis"
   },
   "outputs": [],
   "source": [
    "time_step = example_environment.reset()"
   ]
  },
  {
   "cell_type": "code",
   "execution_count": 21,
   "metadata": {
    "execution": {
     "iopub.execute_input": "2022-06-05T12:53:31.895991Z",
     "iopub.status.busy": "2022-06-05T12:53:31.895484Z",
     "iopub.status.idle": "2022-06-05T12:53:31.902419Z",
     "shell.execute_reply": "2022-06-05T12:53:31.901846Z"
    },
    "id": "PRFqAUzpNaAW"
   },
   "outputs": [
    {
     "data": {
      "text/plain": [
       "PolicyStep(action=<tf.Tensor: shape=(1,), dtype=int64, numpy=array([1])>, state=(), info=())"
      ]
     },
     "execution_count": 21,
     "metadata": {},
     "output_type": "execute_result"
    }
   ],
   "source": [
    "random_policy.action(time_step)"
   ]
  },
  {
   "cell_type": "markdown",
   "metadata": {
    "id": "94rCXQtbUbXv"
   },
   "source": [
    "## Metrics and Evaluation\n",
    "\n",
    "The most common metric used to evaluate a policy is the average return. The return is the sum of rewards obtained while running a policy in an environment for an episode. Several episodes are run, creating an average return.\n",
    "\n",
    "The following function computes the average return of a policy, given the policy, environment, and a number of episodes.\n"
   ]
  },
  {
   "cell_type": "code",
   "execution_count": 22,
   "metadata": {
    "execution": {
     "iopub.execute_input": "2022-06-05T12:53:31.905349Z",
     "iopub.status.busy": "2022-06-05T12:53:31.904949Z",
     "iopub.status.idle": "2022-06-05T12:53:31.909052Z",
     "shell.execute_reply": "2022-06-05T12:53:31.908539Z"
    },
    "id": "bitzHo5_UbXy"
   },
   "outputs": [],
   "source": [
    "#@test {\"skip\": true}\n",
    "def compute_avg_return(environment, policy, num_episodes=10):\n",
    "\n",
    "  total_return = 0.0\n",
    "  for _ in range(num_episodes):\n",
    "\n",
    "    time_step = environment.reset()\n",
    "    episode_return = 0.0\n",
    "\n",
    "    while not time_step.is_last():\n",
    "      action_step = policy.action(time_step)\n",
    "      time_step = environment.step(action_step.action)\n",
    "      episode_return += time_step.reward\n",
    "    total_return += episode_return\n",
    "\n",
    "  avg_return = total_return / num_episodes\n",
    "  return avg_return.numpy()[0]\n",
    "\n",
    "\n",
    "# See also the metrics module for standard implementations of different metrics.\n",
    "# https://github.com/tensorflow/agents/tree/master/tf_agents/metrics"
   ]
  },
  {
   "cell_type": "markdown",
   "metadata": {
    "id": "_snCVvq5Z8lJ"
   },
   "source": [
    "Running this computation on the `random_policy` shows a baseline performance in the environment."
   ]
  },
  {
   "cell_type": "code",
   "execution_count": 23,
   "metadata": {
    "execution": {
     "iopub.execute_input": "2022-06-05T12:53:31.912025Z",
     "iopub.status.busy": "2022-06-05T12:53:31.911553Z",
     "iopub.status.idle": "2022-06-05T12:53:32.397764Z",
     "shell.execute_reply": "2022-06-05T12:53:32.397182Z"
    },
    "id": "9bgU6Q6BZ8Bp"
   },
   "outputs": [
    {
     "data": {
      "text/plain": [
       "18.4"
      ]
     },
     "execution_count": 23,
     "metadata": {},
     "output_type": "execute_result"
    }
   ],
   "source": [
    "compute_avg_return(eval_env, random_policy, num_eval_episodes)"
   ]
  },
  {
   "cell_type": "markdown",
   "metadata": {
    "id": "NLva6g2jdWgr"
   },
   "source": [
    "## Replay Buffer\n",
    "\n",
    "In order to keep track of the data collected from the environment, we will use [Reverb](https://deepmind.com/research/open-source/Reverb), an efficient, extensible, and easy-to-use replay system by Deepmind. It stores experience data when we collect trajectories and is consumed during training.\n",
    "\n",
    "This replay buffer is constructed using specs describing the tensors that are to be stored, which can be obtained from the agent using agent.collect_data_spec.\n"
   ]
  },
  {
   "cell_type": "code",
   "execution_count": 24,
   "metadata": {
    "execution": {
     "iopub.execute_input": "2022-06-05T12:53:32.400984Z",
     "iopub.status.busy": "2022-06-05T12:53:32.400443Z",
     "iopub.status.idle": "2022-06-05T12:53:32.415200Z",
     "shell.execute_reply": "2022-06-05T12:53:32.414586Z"
    },
    "id": "vX2zGUWJGWAl"
   },
   "outputs": [
    {
     "name": "stderr",
     "output_type": "stream",
     "text": [
      "[reverb/cc/platform/tfrecord_checkpointer.cc:162]  Initializing TFRecordCheckpointer in /tmpfs/tmp/tmp5kmo8soi.\n",
      "[reverb/cc/platform/tfrecord_checkpointer.cc:552] Loading latest checkpoint from /tmpfs/tmp/tmp5kmo8soi\n",
      "[reverb/cc/platform/default/server.cc:71] Started replay server on port 22238\n"
     ]
    }
   ],
   "source": [
    "table_name = 'uniform_table'\n",
    "replay_buffer_signature = tensor_spec.from_spec(\n",
    "      agent.collect_data_spec)\n",
    "replay_buffer_signature = tensor_spec.add_outer_dim(\n",
    "    replay_buffer_signature)\n",
    "\n",
    "table = reverb.Table(\n",
    "    table_name,\n",
    "    max_size=replay_buffer_max_length,\n",
    "    sampler=reverb.selectors.Uniform(),\n",
    "    remover=reverb.selectors.Fifo(),\n",
    "    rate_limiter=reverb.rate_limiters.MinSize(1),\n",
    "    signature=replay_buffer_signature)\n",
    "\n",
    "reverb_server = reverb.Server([table])\n",
    "\n",
    "replay_buffer = reverb_replay_buffer.ReverbReplayBuffer(\n",
    "    agent.collect_data_spec,\n",
    "    table_name=table_name,\n",
    "    sequence_length=2,\n",
    "    local_server=reverb_server)\n",
    "\n",
    "rb_observer = reverb_utils.ReverbAddTrajectoryObserver(\n",
    "  replay_buffer.py_client,\n",
    "  table_name,\n",
    "  sequence_length=2)"
   ]
  },
  {
   "cell_type": "markdown",
   "metadata": {
    "id": "ZGNTDJpZs4NN"
   },
   "source": [
    "For most agents, `collect_data_spec` is a named tuple called `Trajectory`, containing the specs for observations, actions, rewards, and other items."
   ]
  },
  {
   "cell_type": "code",
   "execution_count": 25,
   "metadata": {
    "execution": {
     "iopub.execute_input": "2022-06-05T12:53:32.418136Z",
     "iopub.status.busy": "2022-06-05T12:53:32.417922Z",
     "iopub.status.idle": "2022-06-05T12:53:32.423182Z",
     "shell.execute_reply": "2022-06-05T12:53:32.422654Z"
    },
    "id": "_IZ-3HcqgE1z"
   },
   "outputs": [
    {
     "data": {
      "text/plain": [
       "Trajectory(\n",
       "{'action': BoundedTensorSpec(shape=(), dtype=tf.int64, name='action', minimum=array(0), maximum=array(1)),\n",
       " 'discount': BoundedTensorSpec(shape=(), dtype=tf.float32, name='discount', minimum=array(0., dtype=float32), maximum=array(1., dtype=float32)),\n",
       " 'next_step_type': TensorSpec(shape=(), dtype=tf.int32, name='step_type'),\n",
       " 'observation': BoundedTensorSpec(shape=(4,), dtype=tf.float32, name='observation', minimum=array([-4.8000002e+00, -3.4028235e+38, -4.1887903e-01, -3.4028235e+38],\n",
       "      dtype=float32), maximum=array([4.8000002e+00, 3.4028235e+38, 4.1887903e-01, 3.4028235e+38],\n",
       "      dtype=float32)),\n",
       " 'policy_info': (),\n",
       " 'reward': TensorSpec(shape=(), dtype=tf.float32, name='reward'),\n",
       " 'step_type': TensorSpec(shape=(), dtype=tf.int32, name='step_type')})"
      ]
     },
     "execution_count": 25,
     "metadata": {},
     "output_type": "execute_result"
    }
   ],
   "source": [
    "agent.collect_data_spec"
   ]
  },
  {
   "cell_type": "code",
   "execution_count": 26,
   "metadata": {
    "execution": {
     "iopub.execute_input": "2022-06-05T12:53:32.426240Z",
     "iopub.status.busy": "2022-06-05T12:53:32.425666Z",
     "iopub.status.idle": "2022-06-05T12:53:32.429776Z",
     "shell.execute_reply": "2022-06-05T12:53:32.429162Z"
    },
    "id": "sy6g1tGcfRlw"
   },
   "outputs": [
    {
     "data": {
      "text/plain": [
       "('step_type',\n",
       " 'observation',\n",
       " 'action',\n",
       " 'policy_info',\n",
       " 'next_step_type',\n",
       " 'reward',\n",
       " 'discount')"
      ]
     },
     "execution_count": 26,
     "metadata": {},
     "output_type": "execute_result"
    }
   ],
   "source": [
    "agent.collect_data_spec._fields"
   ]
  },
  {
   "cell_type": "markdown",
   "metadata": {
    "id": "rVD5nQ9ZGo8_"
   },
   "source": [
    "## Data Collection\n",
    "\n",
    "Now execute the random policy in the environment for a few steps, recording the data in the replay buffer.\n",
    "\n",
    "Here we are using 'PyDriver' to run the experience collecting loop. You can learn more about TF Agents driver in our [drivers tutorial](https://www.tensorflow.org/agents/tutorials/4_drivers_tutorial)."
   ]
  },
  {
   "cell_type": "code",
   "execution_count": 27,
   "metadata": {
    "execution": {
     "iopub.execute_input": "2022-06-05T12:53:32.432967Z",
     "iopub.status.busy": "2022-06-05T12:53:32.432414Z",
     "iopub.status.idle": "2022-06-05T12:53:32.679575Z",
     "shell.execute_reply": "2022-06-05T12:53:32.679003Z"
    },
    "id": "wr1KSAEGG4h9"
   },
   "outputs": [
    {
     "data": {
      "text/plain": [
       "(TimeStep(\n",
       " {'discount': array(1., dtype=float32),\n",
       "  'observation': array([-0.10718076,  0.0450697 ,  0.00947569, -0.18971191], dtype=float32),\n",
       "  'reward': array(1., dtype=float32),\n",
       "  'step_type': array(1, dtype=int32)}),\n",
       " ())"
      ]
     },
     "execution_count": 27,
     "metadata": {},
     "output_type": "execute_result"
    }
   ],
   "source": [
    "#@test {\"skip\": true}\n",
    "py_driver.PyDriver(\n",
    "    env,\n",
    "    py_tf_eager_policy.PyTFEagerPolicy(\n",
    "      random_policy, use_tf_function=True),\n",
    "    [rb_observer],\n",
    "    max_steps=initial_collect_steps).run(train_py_env.reset())"
   ]
  },
  {
   "cell_type": "markdown",
   "metadata": {
    "id": "84z5pQJdoKxo"
   },
   "source": [
    "The replay buffer is now a collection of Trajectories."
   ]
  },
  {
   "cell_type": "code",
   "execution_count": 28,
   "metadata": {
    "execution": {
     "iopub.execute_input": "2022-06-05T12:53:32.682552Z",
     "iopub.status.busy": "2022-06-05T12:53:32.682310Z",
     "iopub.status.idle": "2022-06-05T12:53:32.685082Z",
     "shell.execute_reply": "2022-06-05T12:53:32.684523Z"
    },
    "id": "4wZnLu2ViO4E"
   },
   "outputs": [],
   "source": [
    "# For the curious:\n",
    "# Uncomment to peel one of these off and inspect it.\n",
    "# iter(replay_buffer.as_dataset()).next()"
   ]
  },
  {
   "cell_type": "markdown",
   "metadata": {
    "id": "TujU-PMUsKjS"
   },
   "source": [
    "The agent needs access to the replay buffer. This is provided by creating an iterable `tf.data.Dataset` pipeline which will feed data to the agent.\n",
    "\n",
    "Each row of the replay buffer only stores a single observation step. But since the DQN Agent needs both the current and next observation to compute the loss, the dataset pipeline will sample two adjacent rows for each item in the batch (`num_steps=2`).\n",
    "\n",
    "This dataset is also optimized by running parallel calls and prefetching data."
   ]
  },
  {
   "cell_type": "code",
   "execution_count": 29,
   "metadata": {
    "execution": {
     "iopub.execute_input": "2022-06-05T12:53:32.688378Z",
     "iopub.status.busy": "2022-06-05T12:53:32.687914Z",
     "iopub.status.idle": "2022-06-05T12:53:32.984627Z",
     "shell.execute_reply": "2022-06-05T12:53:32.983934Z"
    },
    "id": "ba7bilizt_qW"
   },
   "outputs": [
    {
     "data": {
      "text/plain": [
       "<PrefetchDataset element_spec=(Trajectory(\n",
       "{'action': TensorSpec(shape=(64, 2), dtype=tf.int64, name=None),\n",
       " 'discount': TensorSpec(shape=(64, 2), dtype=tf.float32, name=None),\n",
       " 'next_step_type': TensorSpec(shape=(64, 2), dtype=tf.int32, name=None),\n",
       " 'observation': TensorSpec(shape=(64, 2, 4), dtype=tf.float32, name=None),\n",
       " 'policy_info': (),\n",
       " 'reward': TensorSpec(shape=(64, 2), dtype=tf.float32, name=None),\n",
       " 'step_type': TensorSpec(shape=(64, 2), dtype=tf.int32, name=None)}), SampleInfo(key=TensorSpec(shape=(64, 2), dtype=tf.uint64, name=None), probability=TensorSpec(shape=(64, 2), dtype=tf.float64, name=None), table_size=TensorSpec(shape=(64, 2), dtype=tf.int64, name=None), priority=TensorSpec(shape=(64, 2), dtype=tf.float64, name=None), times_sampled=TensorSpec(shape=(64, 2), dtype=tf.int32, name=None)))>"
      ]
     },
     "execution_count": 29,
     "metadata": {},
     "output_type": "execute_result"
    }
   ],
   "source": [
    "# Dataset generates trajectories with shape [Bx2x...]\n",
    "dataset = replay_buffer.as_dataset(\n",
    "    num_parallel_calls=3,\n",
    "    sample_batch_size=batch_size,\n",
    "    num_steps=2).prefetch(3)\n",
    "\n",
    "dataset"
   ]
  },
  {
   "cell_type": "code",
   "execution_count": 30,
   "metadata": {
    "execution": {
     "iopub.execute_input": "2022-06-05T12:53:32.987622Z",
     "iopub.status.busy": "2022-06-05T12:53:32.987152Z",
     "iopub.status.idle": "2022-06-05T12:53:33.063675Z",
     "shell.execute_reply": "2022-06-05T12:53:33.062906Z"
    },
    "id": "K13AST-2ppOq"
   },
   "outputs": [
    {
     "name": "stdout",
     "output_type": "stream",
     "text": [
      "<tensorflow.python.data.ops.iterator_ops.OwnedIterator object at 0x7f8f10d19730>\n"
     ]
    }
   ],
   "source": [
    "iterator = iter(dataset)\n",
    "print(iterator)"
   ]
  },
  {
   "cell_type": "code",
   "execution_count": 31,
   "metadata": {
    "execution": {
     "iopub.execute_input": "2022-06-05T12:53:33.066811Z",
     "iopub.status.busy": "2022-06-05T12:53:33.066218Z",
     "iopub.status.idle": "2022-06-05T12:53:33.069169Z",
     "shell.execute_reply": "2022-06-05T12:53:33.068562Z"
    },
    "id": "Th5w5Sff0b16"
   },
   "outputs": [],
   "source": [
    "# For the curious:\n",
    "# Uncomment to see what the dataset iterator is feeding to the agent.\n",
    "# Compare this representation of replay data \n",
    "# to the collection of individual trajectories shown earlier.\n",
    "\n",
    "# iterator.next()"
   ]
  },
  {
   "cell_type": "markdown",
   "metadata": {
    "id": "hBc9lj9VWWtZ"
   },
   "source": [
    "## Training the agent\n",
    "\n",
    "Two things must happen during the training loop:\n",
    "\n",
    "-   collect data from the environment\n",
    "-   use that data to train the agent's neural network(s)\n",
    "\n",
    "This example also periodicially evaluates the policy and prints the current score.\n",
    "\n",
    "The following will take ~5 minutes to run."
   ]
  },
  {
   "cell_type": "code",
   "execution_count": 32,
   "metadata": {
    "execution": {
     "iopub.execute_input": "2022-06-05T12:53:33.072126Z",
     "iopub.status.busy": "2022-06-05T12:53:33.071607Z",
     "iopub.status.idle": "2022-06-05T12:58:38.070157Z",
     "shell.execute_reply": "2022-06-05T12:58:38.069454Z"
    },
    "id": "0pTbJ3PeyF-u"
   },
   "outputs": [
    {
     "name": "stdout",
     "output_type": "stream",
     "text": [
      "WARNING:tensorflow:From /tmpfs/src/tf_docs_env/lib/python3.9/site-packages/tensorflow/python/util/dispatch.py:1082: calling foldr_v2 (from tensorflow.python.ops.functional_ops) with back_prop=False is deprecated and will be removed in a future version.\n",
      "Instructions for updating:\n",
      "back_prop=False is deprecated. Consider using tf.stop_gradient instead.\n",
      "Instead of:\n",
      "results = tf.foldr(fn, elems, back_prop=False)\n",
      "Use:\n",
      "results = tf.nest.map_structure(tf.stop_gradient, tf.foldr(fn, elems))\n"
     ]
    },
    {
     "name": "stderr",
     "output_type": "stream",
     "text": [
      "[reverb/cc/client.cc:165] Sampler and server are owned by the same process (43754) so Table uniform_table is accessed directly without gRPC.\n",
      "[reverb/cc/client.cc:165] Sampler and server are owned by the same process (43754) so Table uniform_table is accessed directly without gRPC.\n",
      "[reverb/cc/client.cc:165] Sampler and server are owned by the same process (43754) so Table uniform_table is accessed directly without gRPC.\n",
      "[reverb/cc/client.cc:165] Sampler and server are owned by the same process (43754) so Table uniform_table is accessed directly without gRPC.\n",
      "[reverb/cc/client.cc:165] Sampler and server are owned by the same process (43754) so Table uniform_table is accessed directly without gRPC.\n",
      "[reverb/cc/client.cc:165] Sampler and server are owned by the same process (43754) so Table uniform_table is accessed directly without gRPC.\n"
     ]
    },
    {
     "name": "stdout",
     "output_type": "stream",
     "text": [
      "step = 200: loss = 81.41148376464844\n"
     ]
    },
    {
     "name": "stdout",
     "output_type": "stream",
     "text": [
      "step = 400: loss = 49.05186462402344\n"
     ]
    },
    {
     "name": "stdout",
     "output_type": "stream",
     "text": [
      "step = 600: loss = 53.09516906738281\n"
     ]
    },
    {
     "name": "stdout",
     "output_type": "stream",
     "text": [
      "step = 800: loss = 52.95423126220703\n"
     ]
    },
    {
     "name": "stdout",
     "output_type": "stream",
     "text": [
      "step = 1000: loss = 255.05833435058594\n"
     ]
    },
    {
     "name": "stdout",
     "output_type": "stream",
     "text": [
      "step = 1000: Average Return = 150.10000610351562\n"
     ]
    },
    {
     "name": "stdout",
     "output_type": "stream",
     "text": [
      "step = 1200: loss = 910.2611083984375\n"
     ]
    },
    {
     "name": "stdout",
     "output_type": "stream",
     "text": [
      "step = 1400: loss = 255.1861114501953\n"
     ]
    },
    {
     "name": "stdout",
     "output_type": "stream",
     "text": [
      "step = 1600: loss = 139.39578247070312\n"
     ]
    },
    {
     "name": "stdout",
     "output_type": "stream",
     "text": [
      "step = 1800: loss = 1968.7744140625\n"
     ]
    },
    {
     "name": "stdout",
     "output_type": "stream",
     "text": [
      "step = 2000: loss = 6276.44970703125\n"
     ]
    },
    {
     "name": "stdout",
     "output_type": "stream",
     "text": [
      "step = 2000: Average Return = 200.0\n"
     ]
    },
    {
     "name": "stdout",
     "output_type": "stream",
     "text": [
      "step = 2200: loss = 4915.94921875\n"
     ]
    },
    {
     "name": "stdout",
     "output_type": "stream",
     "text": [
      "step = 2400: loss = 27824.90234375\n"
     ]
    },
    {
     "name": "stdout",
     "output_type": "stream",
     "text": [
      "step = 2600: loss = 9649.3076171875\n"
     ]
    },
    {
     "name": "stdout",
     "output_type": "stream",
     "text": [
      "step = 2800: loss = 1277.3101806640625\n"
     ]
    },
    {
     "name": "stdout",
     "output_type": "stream",
     "text": [
      "step = 3000: loss = 1400.070068359375\n"
     ]
    },
    {
     "name": "stdout",
     "output_type": "stream",
     "text": [
      "step = 3000: Average Return = 200.0\n"
     ]
    },
    {
     "name": "stdout",
     "output_type": "stream",
     "text": [
      "step = 3200: loss = 35501.5546875\n"
     ]
    },
    {
     "name": "stdout",
     "output_type": "stream",
     "text": [
      "step = 3400: loss = 44474.796875\n"
     ]
    },
    {
     "name": "stdout",
     "output_type": "stream",
     "text": [
      "step = 3600: loss = 16600.982421875\n"
     ]
    },
    {
     "name": "stdout",
     "output_type": "stream",
     "text": [
      "step = 3800: loss = 38225.9140625\n"
     ]
    },
    {
     "name": "stdout",
     "output_type": "stream",
     "text": [
      "step = 4000: loss = 1729.8035888671875\n"
     ]
    },
    {
     "name": "stdout",
     "output_type": "stream",
     "text": [
      "step = 4000: Average Return = 200.0\n"
     ]
    },
    {
     "name": "stdout",
     "output_type": "stream",
     "text": [
      "step = 4200: loss = 2002.54736328125\n"
     ]
    },
    {
     "name": "stdout",
     "output_type": "stream",
     "text": [
      "step = 4400: loss = 23153.0859375\n"
     ]
    },
    {
     "name": "stdout",
     "output_type": "stream",
     "text": [
      "step = 4600: loss = 93920.640625\n"
     ]
    },
    {
     "name": "stdout",
     "output_type": "stream",
     "text": [
      "step = 4800: loss = 113463.6640625\n"
     ]
    },
    {
     "name": "stdout",
     "output_type": "stream",
     "text": [
      "step = 5000: loss = 1843.4151611328125\n"
     ]
    },
    {
     "name": "stdout",
     "output_type": "stream",
     "text": [
      "step = 5000: Average Return = 200.0\n"
     ]
    },
    {
     "name": "stdout",
     "output_type": "stream",
     "text": [
      "step = 5200: loss = 89401.9921875\n"
     ]
    },
    {
     "name": "stdout",
     "output_type": "stream",
     "text": [
      "step = 5400: loss = 3161.064453125\n"
     ]
    },
    {
     "name": "stdout",
     "output_type": "stream",
     "text": [
      "step = 5600: loss = 3423.5087890625\n"
     ]
    },
    {
     "name": "stdout",
     "output_type": "stream",
     "text": [
      "step = 5800: loss = 2602.369140625\n"
     ]
    },
    {
     "name": "stdout",
     "output_type": "stream",
     "text": [
      "step = 6000: loss = 2489.79736328125\n"
     ]
    },
    {
     "name": "stdout",
     "output_type": "stream",
     "text": [
      "step = 6000: Average Return = 200.0\n"
     ]
    },
    {
     "name": "stdout",
     "output_type": "stream",
     "text": [
      "step = 6200: loss = 97147.1328125\n"
     ]
    },
    {
     "name": "stdout",
     "output_type": "stream",
     "text": [
      "step = 6400: loss = 14363.654296875\n"
     ]
    },
    {
     "name": "stdout",
     "output_type": "stream",
     "text": [
      "step = 6600: loss = 34703.53515625\n"
     ]
    },
    {
     "name": "stdout",
     "output_type": "stream",
     "text": [
      "step = 6800: loss = 6361.3623046875\n"
     ]
    },
    {
     "name": "stdout",
     "output_type": "stream",
     "text": [
      "step = 7000: loss = 136159.90625\n"
     ]
    },
    {
     "name": "stdout",
     "output_type": "stream",
     "text": [
      "step = 7000: Average Return = 200.0\n"
     ]
    },
    {
     "name": "stdout",
     "output_type": "stream",
     "text": [
      "step = 7200: loss = 3554.52783203125\n"
     ]
    },
    {
     "name": "stdout",
     "output_type": "stream",
     "text": [
      "step = 7400: loss = 4837.5830078125\n"
     ]
    },
    {
     "name": "stdout",
     "output_type": "stream",
     "text": [
      "step = 7600: loss = 7163.951171875\n"
     ]
    },
    {
     "name": "stdout",
     "output_type": "stream",
     "text": [
      "step = 7800: loss = 7663.943359375\n"
     ]
    },
    {
     "name": "stdout",
     "output_type": "stream",
     "text": [
      "step = 8000: loss = 7428.076171875\n"
     ]
    },
    {
     "name": "stdout",
     "output_type": "stream",
     "text": [
      "step = 8000: Average Return = 200.0\n"
     ]
    },
    {
     "name": "stdout",
     "output_type": "stream",
     "text": [
      "step = 8200: loss = 9591.3193359375\n"
     ]
    },
    {
     "name": "stdout",
     "output_type": "stream",
     "text": [
      "step = 8400: loss = 6583.580078125\n"
     ]
    },
    {
     "name": "stdout",
     "output_type": "stream",
     "text": [
      "step = 8600: loss = 163952.046875\n"
     ]
    },
    {
     "name": "stdout",
     "output_type": "stream",
     "text": [
      "step = 8800: loss = 9353.92578125\n"
     ]
    },
    {
     "name": "stdout",
     "output_type": "stream",
     "text": [
      "step = 9000: loss = 292904.03125\n"
     ]
    },
    {
     "name": "stdout",
     "output_type": "stream",
     "text": [
      "step = 9000: Average Return = 200.0\n"
     ]
    },
    {
     "name": "stdout",
     "output_type": "stream",
     "text": [
      "step = 9200: loss = 12956.6240234375\n"
     ]
    },
    {
     "name": "stdout",
     "output_type": "stream",
     "text": [
      "step = 9400: loss = 4001.58154296875\n"
     ]
    },
    {
     "name": "stdout",
     "output_type": "stream",
     "text": [
      "step = 9600: loss = 12295.29296875\n"
     ]
    },
    {
     "name": "stdout",
     "output_type": "stream",
     "text": [
      "step = 9800: loss = 11299.25\n"
     ]
    },
    {
     "name": "stdout",
     "output_type": "stream",
     "text": [
      "step = 10000: loss = 54230.59375\n"
     ]
    },
    {
     "name": "stdout",
     "output_type": "stream",
     "text": [
      "step = 10000: Average Return = 200.0\n"
     ]
    },
    {
     "name": "stdout",
     "output_type": "stream",
     "text": [
      "step = 10200: loss = 7189.47265625\n"
     ]
    },
    {
     "name": "stdout",
     "output_type": "stream",
     "text": [
      "step = 10400: loss = 21982.33203125\n"
     ]
    },
    {
     "name": "stdout",
     "output_type": "stream",
     "text": [
      "step = 10600: loss = 9401.828125\n"
     ]
    },
    {
     "name": "stdout",
     "output_type": "stream",
     "text": [
      "step = 10800: loss = 942063.5\n"
     ]
    },
    {
     "name": "stdout",
     "output_type": "stream",
     "text": [
      "step = 11000: loss = 18161.60546875\n"
     ]
    },
    {
     "name": "stdout",
     "output_type": "stream",
     "text": [
      "step = 11000: Average Return = 200.0\n"
     ]
    },
    {
     "name": "stdout",
     "output_type": "stream",
     "text": [
      "step = 11200: loss = 21715.28515625\n"
     ]
    },
    {
     "name": "stdout",
     "output_type": "stream",
     "text": [
      "step = 11400: loss = 10811.1640625\n"
     ]
    },
    {
     "name": "stdout",
     "output_type": "stream",
     "text": [
      "step = 11600: loss = 732263.375\n"
     ]
    },
    {
     "name": "stdout",
     "output_type": "stream",
     "text": [
      "step = 11800: loss = 16699.0546875\n"
     ]
    },
    {
     "name": "stdout",
     "output_type": "stream",
     "text": [
      "step = 12000: loss = 30592.60546875\n"
     ]
    },
    {
     "name": "stdout",
     "output_type": "stream",
     "text": [
      "step = 12000: Average Return = 200.0\n"
     ]
    },
    {
     "name": "stdout",
     "output_type": "stream",
     "text": [
      "step = 12200: loss = 6469.44091796875\n"
     ]
    },
    {
     "name": "stdout",
     "output_type": "stream",
     "text": [
      "step = 12400: loss = 13135.03515625\n"
     ]
    },
    {
     "name": "stdout",
     "output_type": "stream",
     "text": [
      "step = 12600: loss = 58895.171875\n"
     ]
    },
    {
     "name": "stdout",
     "output_type": "stream",
     "text": [
      "step = 12800: loss = 22468.07421875\n"
     ]
    },
    {
     "name": "stdout",
     "output_type": "stream",
     "text": [
      "step = 13000: loss = 17629.052734375\n"
     ]
    },
    {
     "name": "stdout",
     "output_type": "stream",
     "text": [
      "step = 13000: Average Return = 200.0\n"
     ]
    },
    {
     "name": "stdout",
     "output_type": "stream",
     "text": [
      "step = 13200: loss = 444382.65625\n"
     ]
    },
    {
     "name": "stdout",
     "output_type": "stream",
     "text": [
      "step = 13400: loss = 17384.810546875\n"
     ]
    },
    {
     "name": "stdout",
     "output_type": "stream",
     "text": [
      "step = 13600: loss = 19218.078125\n"
     ]
    },
    {
     "name": "stdout",
     "output_type": "stream",
     "text": [
      "step = 13800: loss = 5123.3740234375\n"
     ]
    },
    {
     "name": "stdout",
     "output_type": "stream",
     "text": [
      "step = 14000: loss = 10671.484375\n"
     ]
    },
    {
     "name": "stdout",
     "output_type": "stream",
     "text": [
      "step = 14000: Average Return = 200.0\n"
     ]
    },
    {
     "name": "stdout",
     "output_type": "stream",
     "text": [
      "step = 14200: loss = 11772.138671875\n"
     ]
    },
    {
     "name": "stdout",
     "output_type": "stream",
     "text": [
      "step = 14400: loss = 12214.0302734375\n"
     ]
    },
    {
     "name": "stdout",
     "output_type": "stream",
     "text": [
      "step = 14600: loss = 31406.65625\n"
     ]
    },
    {
     "name": "stdout",
     "output_type": "stream",
     "text": [
      "step = 14800: loss = 1765334.875\n"
     ]
    },
    {
     "name": "stdout",
     "output_type": "stream",
     "text": [
      "step = 15000: loss = 11690.228515625\n"
     ]
    },
    {
     "name": "stdout",
     "output_type": "stream",
     "text": [
      "step = 15000: Average Return = 200.0\n"
     ]
    },
    {
     "name": "stdout",
     "output_type": "stream",
     "text": [
      "step = 15200: loss = 13742.5458984375\n"
     ]
    },
    {
     "name": "stdout",
     "output_type": "stream",
     "text": [
      "step = 15400: loss = 1368718.125\n"
     ]
    },
    {
     "name": "stdout",
     "output_type": "stream",
     "text": [
      "step = 15600: loss = 6018.0380859375\n"
     ]
    },
    {
     "name": "stdout",
     "output_type": "stream",
     "text": [
      "step = 15800: loss = 33954.1328125\n"
     ]
    },
    {
     "name": "stdout",
     "output_type": "stream",
     "text": [
      "step = 16000: loss = 1037816.75\n"
     ]
    },
    {
     "name": "stdout",
     "output_type": "stream",
     "text": [
      "step = 16000: Average Return = 200.0\n"
     ]
    },
    {
     "name": "stdout",
     "output_type": "stream",
     "text": [
      "step = 16200: loss = 18919.90625\n"
     ]
    },
    {
     "name": "stdout",
     "output_type": "stream",
     "text": [
      "step = 16400: loss = 2071957.625\n"
     ]
    },
    {
     "name": "stdout",
     "output_type": "stream",
     "text": [
      "step = 16600: loss = 37438.109375\n"
     ]
    },
    {
     "name": "stdout",
     "output_type": "stream",
     "text": [
      "step = 16800: loss = 10397.6953125\n"
     ]
    },
    {
     "name": "stdout",
     "output_type": "stream",
     "text": [
      "step = 17000: loss = 32521.916015625\n"
     ]
    },
    {
     "name": "stdout",
     "output_type": "stream",
     "text": [
      "step = 17000: Average Return = 200.0\n"
     ]
    },
    {
     "name": "stdout",
     "output_type": "stream",
     "text": [
      "step = 17200: loss = 8649.4609375\n"
     ]
    },
    {
     "name": "stdout",
     "output_type": "stream",
     "text": [
      "step = 17400: loss = 11430.212890625\n"
     ]
    },
    {
     "name": "stdout",
     "output_type": "stream",
     "text": [
      "step = 17600: loss = 20441.376953125\n"
     ]
    },
    {
     "name": "stdout",
     "output_type": "stream",
     "text": [
      "step = 17800: loss = 22338.13671875\n"
     ]
    },
    {
     "name": "stdout",
     "output_type": "stream",
     "text": [
      "step = 18000: loss = 696438.5\n"
     ]
    },
    {
     "name": "stdout",
     "output_type": "stream",
     "text": [
      "step = 18000: Average Return = 200.0\n"
     ]
    },
    {
     "name": "stdout",
     "output_type": "stream",
     "text": [
      "step = 18200: loss = 17426.16796875\n"
     ]
    },
    {
     "name": "stdout",
     "output_type": "stream",
     "text": [
      "step = 18400: loss = 6250168.0\n"
     ]
    },
    {
     "name": "stdout",
     "output_type": "stream",
     "text": [
      "step = 18600: loss = 21102.9453125\n"
     ]
    },
    {
     "name": "stdout",
     "output_type": "stream",
     "text": [
      "step = 18800: loss = 2654139.0\n"
     ]
    },
    {
     "name": "stdout",
     "output_type": "stream",
     "text": [
      "step = 19000: loss = 23587.052734375\n"
     ]
    },
    {
     "name": "stdout",
     "output_type": "stream",
     "text": [
      "step = 19000: Average Return = 200.0\n"
     ]
    },
    {
     "name": "stdout",
     "output_type": "stream",
     "text": [
      "step = 19200: loss = 11567.70703125\n"
     ]
    },
    {
     "name": "stdout",
     "output_type": "stream",
     "text": [
      "step = 19400: loss = 1878709.25\n"
     ]
    },
    {
     "name": "stdout",
     "output_type": "stream",
     "text": [
      "step = 19600: loss = 19942.6328125\n"
     ]
    },
    {
     "name": "stdout",
     "output_type": "stream",
     "text": [
      "step = 19800: loss = 1847954.125\n"
     ]
    },
    {
     "name": "stdout",
     "output_type": "stream",
     "text": [
      "step = 20000: loss = 1938629.125\n"
     ]
    },
    {
     "name": "stdout",
     "output_type": "stream",
     "text": [
      "step = 20000: Average Return = 200.0\n"
     ]
    }
   ],
   "source": [
    "#@test {\"skip\": true}\n",
    "try:\n",
    "  %%time\n",
    "except:\n",
    "  pass\n",
    "\n",
    "# (Optional) Optimize by wrapping some of the code in a graph using TF function.\n",
    "agent.train = common.function(agent.train)\n",
    "\n",
    "# Reset the train step.\n",
    "agent.train_step_counter.assign(0)\n",
    "\n",
    "# Evaluate the agent's policy once before training.\n",
    "avg_return = compute_avg_return(eval_env, agent.policy, num_eval_episodes)\n",
    "returns = [avg_return]\n",
    "\n",
    "# Reset the environment.\n",
    "time_step = train_py_env.reset()\n",
    "\n",
    "# Create a driver to collect experience.\n",
    "collect_driver = py_driver.PyDriver(\n",
    "    env,\n",
    "    py_tf_eager_policy.PyTFEagerPolicy(\n",
    "      agent.collect_policy, use_tf_function=True),\n",
    "    [rb_observer],\n",
    "    max_steps=collect_steps_per_iteration)\n",
    "\n",
    "for _ in range(num_iterations):\n",
    "\n",
    "  # Collect a few steps and save to the replay buffer.\n",
    "  time_step, _ = collect_driver.run(time_step)\n",
    "\n",
    "  # Sample a batch of data from the buffer and update the agent's network.\n",
    "  experience, unused_info = next(iterator)\n",
    "  train_loss = agent.train(experience).loss\n",
    "\n",
    "  step = agent.train_step_counter.numpy()\n",
    "\n",
    "  if step % log_interval == 0:\n",
    "    print('step = {0}: loss = {1}'.format(step, train_loss))\n",
    "\n",
    "  if step % eval_interval == 0:\n",
    "    avg_return = compute_avg_return(eval_env, agent.policy, num_eval_episodes)\n",
    "    print('step = {0}: Average Return = {1}'.format(step, avg_return))\n",
    "    returns.append(avg_return)"
   ]
  },
  {
   "cell_type": "markdown",
   "metadata": {
    "id": "68jNcA_TiJDq"
   },
   "source": [
    "## Visualization\n"
   ]
  },
  {
   "cell_type": "markdown",
   "metadata": {
    "id": "aO-LWCdbbOIC"
   },
   "source": [
    "### Plots\n",
    "\n",
    "Use `matplotlib.pyplot` to chart how the policy improved during training.\n",
    "\n",
    "One iteration of `Cartpole-v0` consists of 200 time steps. The environment gives a reward of `+1` for each step the pole stays up, so the maximum return for one episode is 200. The charts shows the return increasing towards that maximum each time it is evaluated during training. (It may be a little unstable and not increase monotonically each time.)"
   ]
  },
  {
   "cell_type": "code",
   "execution_count": 33,
   "metadata": {
    "execution": {
     "iopub.execute_input": "2022-06-05T12:58:38.073695Z",
     "iopub.status.busy": "2022-06-05T12:58:38.073452Z",
     "iopub.status.idle": "2022-06-05T12:58:38.236361Z",
     "shell.execute_reply": "2022-06-05T12:58:38.235745Z"
    },
    "id": "NxtL1mbOYCVO"
   },
   "outputs": [
    {
     "data": {
      "text/plain": [
       "(-0.2349997997283939, 250.0)"
      ]
     },
     "execution_count": 33,
     "metadata": {},
     "output_type": "execute_result"
    },
    {
     "data": {
      "image/png": "[encoded data removed]",
      "text/plain": [
       "<Figure size 432x288 with 1 Axes>"
      ]
     },
     "metadata": {
      "needs_background": "light"
     },
     "output_type": "display_data"
    }
   ],
   "source": [
    "#@test {\"skip\": true}\n",
    "\n",
    "iterations = range(0, num_iterations + 1, eval_interval)\n",
    "plt.plot(iterations, returns)\n",
    "plt.ylabel('Average Return')\n",
    "plt.xlabel('Iterations')\n",
    "plt.ylim(top=250)"
   ]
  },
  {
   "cell_type": "markdown",
   "metadata": {
    "id": "M7-XpPP99Cy7"
   },
   "source": [
    "### Videos"
   ]
  },
  {
   "cell_type": "markdown",
   "metadata": {
    "id": "9pGfGxSH32gn"
   },
   "source": [
    "Charts are nice. But more exciting is seeing an agent actually performing a task in an environment. \n",
    "\n",
    "First, create a function to embed videos in the notebook."
   ]
  },
  {
   "cell_type": "code",
   "execution_count": 34,
   "metadata": {
    "execution": {
     "iopub.execute_input": "2022-06-05T12:58:38.239692Z",
     "iopub.status.busy": "2022-06-05T12:58:38.239203Z",
     "iopub.status.idle": "2022-06-05T12:58:38.243469Z",
     "shell.execute_reply": "2022-06-05T12:58:38.242876Z"
    },
    "id": "ULaGr8pvOKbl"
   },
   "outputs": [],
   "source": [
    "def embed_mp4(filename):\n",
    "  \"\"\"Embeds an mp4 file in the notebook.\"\"\"\n",
    "  video = open(filename,'rb').read()\n",
    "  b64 = base64.b64encode(video)\n",
    "  tag = '''\n",
    "  <video width=\"640\" height=\"480\" controls>\n",
    "    <source src=\"data:video/mp4;base64,{0}\" type=\"video/mp4\">\n",
    "  Your browser does not support the video tag.\n",
    "  </video>'''.format(b64.decode())\n",
    "\n",
    "  return IPython.display.HTML(tag)"
   ]
  },
  {
   "cell_type": "markdown",
   "metadata": {
    "id": "9c_PH-pX4Pr5"
   },
   "source": [
    "Now iterate through a few episodes of the Cartpole game with the agent. The underlying Python environment (the one \"inside\" the TensorFlow environment wrapper) provides a `render()` method, which outputs an image of the environment state. These can be collected into a video."
   ]
  },
  {
   "cell_type": "code",
   "execution_count": 35,
   "metadata": {
    "execution": {
     "iopub.execute_input": "2022-06-05T12:58:38.246437Z",
     "iopub.status.busy": "2022-06-05T12:58:38.245970Z",
     "iopub.status.idle": "2022-06-05T12:58:46.510041Z",
     "shell.execute_reply": "2022-06-05T12:58:46.509289Z"
    },
    "id": "owOVWB158NlF"
   },
   "outputs": [
    {
     "name": "stderr",
     "output_type": "stream",
     "text": [
      "WARNING:root:IMAGEIO FFMPEG_WRITER WARNING: input image is not divisible by macro_block_size=16, resizing from (400, 600) to (400, 608) to ensure video compatibility with most codecs and players. To prevent resizing, make your input image divisible by the macro_block_size or set the macro_block_size to None (risking incompatibility). You may also see a FFMPEG warning concerning speedloss due to data not being aligned.\n"
     ]
    },
    {
     "name": "stderr",
     "output_type": "stream",
     "text": [
      "[swscaler @ 0x55c12aa98880] Warning: data is not aligned! This can lead to a speed loss\n"
     ]
    },
    {
     "data": {
      "text/html": [
       "\n",
       "  <video width=\"640\" height=\"480\" controls>\n",
       "    <source src=\"data:video/mp4;base64,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\" type=\"video/mp4\">\n",
       "  Your browser does not support the video tag.\n",
       "  </video>"
      ],
      "text/plain": [
       "<IPython.core.display.HTML object>"
      ]
     },
     "execution_count": 35,
     "metadata": {},
     "output_type": "execute_result"
    }
   ],
   "source": [
    "def create_policy_eval_video(policy, filename, num_episodes=5, fps=30):\n",
    "  filename = filename + \".mp4\"\n",
    "  with imageio.get_writer(filename, fps=fps) as video:\n",
    "    for _ in range(num_episodes):\n",
    "      time_step = eval_env.reset()\n",
    "      video.append_data(eval_py_env.render())\n",
    "      while not time_step.is_last():\n",
    "        action_step = policy.action(time_step)\n",
    "        time_step = eval_env.step(action_step.action)\n",
    "        video.append_data(eval_py_env.render())\n",
    "  return embed_mp4(filename)\n",
    "\n",
    "create_policy_eval_video(agent.policy, \"trained-agent\")"
   ]
  },
  {
   "cell_type": "markdown",
   "metadata": {
    "id": "povaAOcZygLw"
   },
   "source": [
    "For fun, compare the trained agent (above) to an agent moving randomly. (It does not do as well.)"
   ]
  },
  {
   "cell_type": "code",
   "execution_count": 36,
   "metadata": {
    "execution": {
     "iopub.execute_input": "2022-06-05T12:58:46.514264Z",
     "iopub.status.busy": "2022-06-05T12:58:46.513572Z",
     "iopub.status.idle": "2022-06-05T12:58:47.209350Z",
     "shell.execute_reply": "2022-06-05T12:58:47.208525Z"
    },
    "id": "pJZIdC37yNH4"
   },
   "outputs": [
    {
     "name": "stderr",
     "output_type": "stream",
     "text": [
      "WARNING:root:IMAGEIO FFMPEG_WRITER WARNING: input image is not divisible by macro_block_size=16, resizing from (400, 600) to (400, 608) to ensure video compatibility with most codecs and players. To prevent resizing, make your input image divisible by the macro_block_size or set the macro_block_size to None (risking incompatibility). You may also see a FFMPEG warning concerning speedloss due to data not being aligned.\n"
     ]
    },
    {
     "name": "stderr",
     "output_type": "stream",
     "text": [
      "[swscaler @ 0x56285a4f2880] Warning: data is not aligned! This can lead to a speed loss\n"
     ]
    },
    {
     "data": {
      "text/html": [
       "\n",
       "  <video width=\"640\" height=\"480\" controls>\n",
       "    <source src=\"data:video/mp4;base64,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\" type=\"video/mp4\">\n",
       "  Your browser does not support the video tag.\n",
       "  </video>"
      ],
      "text/plain": [
       "<IPython.core.display.HTML object>"
      ]
     },
     "execution_count": 36,
     "metadata": {},
     "output_type": "execute_result"
    }
   ],
   "source": [
    "create_policy_eval_video(random_policy, \"random-agent\")"
   ]
  }
 ],
 "metadata": {
  "colab": {
   "collapsed_sections": [],
   "name": "DQN Tutorial.ipynb",
   "private_outputs": true,
   "provenance": [],
   "toc_visible": true
  },
  "kernelspec": {
   "display_name": "Python 3",
   "language": "python",
   "name": "python3"
  },
  "language_info": {
   "codemirror_mode": {
    "name": "ipython",
    "version": 3
   },
   "file_extension": ".py",
   "mimetype": "text/x-python",
   "name": "python",
   "nbconvert_exporter": "python",
   "pygments_lexer": "ipython3",
   "version": "3.9.13"
  },
  "pycharm": {
   "stem_cell": {
    "cell_type": "raw",
    "metadata": {
     "collapsed": false
    },
    "source": []
   }
  }
 },
 "nbformat": 4,
 "nbformat_minor": 0
}
